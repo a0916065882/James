{
 "cells": [
  {
   "cell_type": "code",
   "execution_count": null,
   "id": "205c5eea",
   "metadata": {},
   "outputs": [
    {
     "name": "stdout",
     "output_type": "stream",
     "text": [
      "已經抽出五個桌號，接著抽出每一桌的三個獎項\n",
      "[ 5000  1000 10000]\n",
      "[5000  200 5000]\n",
      "[5000 5000  200]\n",
      "[  500 10000   200]\n",
      "[200 200 500]\n"
     ]
    }
   ],
   "source": [
    "import numpy.random as ra1\n",
    "money=[100,200,500,1000,5000,10000]\n",
    "print('已經抽出五個桌號，接著抽出每一桌的三個獎項')\n",
    "for a in range(5): #range(5)代表重複5次\n",
    "  np1=ra1.choice(money,3) #在money這個list內挑選3個資料\n",
    "  print(np1)"
   ]
  },
  {
   "cell_type": "code",
   "execution_count": 3,
   "id": "8932c485",
   "metadata": {},
   "outputs": [
    {
     "name": "stdout",
     "output_type": "stream",
     "text": [
      "已經抽出五個桌號，接著抽出每一桌的三個獎項,可以做一些限制\n",
      "[100 100 200]\n",
      "[200 200 500]\n",
      "[ 100  200 1000]\n",
      "[500 500 500]\n",
      "[ 500 1000 5000]\n"
     ]
    }
   ],
   "source": [
    "print('已經抽出五個桌號，接著抽出每一桌的三個獎項,可以做一些限制')\n",
    "for a in range(5):\n",
    "  np1=ra1.choice(money,3,p=[0.3,0.3,0.2,0.1,0.1,0])\n",
    "  # 在money這個list內挑選3個資料，這三個資料會有不同的比例抓取，money內有六種可能\n",
    "  # 第一種可能是30% 第二種30% 第三種20% 第四種10% 第五種10% 第六種0%\n",
    "  # p這個參數內的數量必須與money內的數量相同，比例加起來必須為1\n",
    "  print(np1)"
   ]
  },
  {
   "cell_type": "code",
   "execution_count": 4,
   "id": "81fff08d",
   "metadata": {},
   "outputs": [
    {
     "name": "stdout",
     "output_type": "stream",
     "text": [
      "已經抽出五個桌號，接著抽出每一桌的三個獎項,可以做一些限制，另外希望不重複\n",
      "[ 100  200 5000]\n",
      "[5000  200  100]\n",
      "[ 200 5000 1000]\n",
      "[ 200 5000  500]\n",
      "[ 200  500 5000]\n"
     ]
    }
   ],
   "source": [
    "print('已經抽出五個桌號，接著抽出每一桌的三個獎項,可以做一些限制，另外希望不重複')\n",
    "for a in range(5):\n",
    "  np1=ra1.choice(money,3,p=[0.3,0.3,0.2,0.1,0.1,0],replace=False)\n",
    "  # 在money這個list內挑選3個資料，這三個資料會有不同的比例抓取，money內有六種可能\n",
    "  # 第一種可能是30% 第二種30% 第三種20% 第四種10% 第五種10% 第六種0%\n",
    "  # p這個參數內的數量必須與money內的數量相同，比例加起來必須為1\n",
    "  # 項目不重覆\n",
    "  print(np1)"
   ]
  }
 ],
 "metadata": {
  "kernelspec": {
   "display_name": "James",
   "language": "python",
   "name": "python3"
  },
  "language_info": {
   "codemirror_mode": {
    "name": "ipython",
    "version": 3
   },
   "file_extension": ".py",
   "mimetype": "text/x-python",
   "name": "python",
   "nbconvert_exporter": "python",
   "pygments_lexer": "ipython3",
   "version": "3.12.11"
  }
 },
 "nbformat": 4,
 "nbformat_minor": 5
}
