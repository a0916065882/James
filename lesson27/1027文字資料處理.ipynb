{
  "cells": [
    {
      "cell_type": "code",
      "execution_count": 8,
      "metadata": {
        "colab": {
          "base_uri": "https://localhost:8080/"
        },
        "id": "vDpSLzPC9GT5",
        "outputId": "235db8a1-46fd-4acd-fa8b-decea26acbeb"
      },
      "outputs": [
        {
          "name": "stdout",
          "output_type": "stream",
          "text": [
            "   color size  price classlabel  year\n",
            "0  green    M   10.1     class1  2024\n",
            "1    red    L   13.5     class2  2023\n",
            "2   blue   XL   15.3     class1  2022\n"
          ]
        }
      ],
      "source": [
        "import pandas as pd\n",
        "df=pd.DataFrame([\n",
        "['green','M',10.1,'class1','2024'],\n",
        "['red','L',13.5,'class2','2023'],\n",
        "['blue','XL',15.3,'class1','2022']\n",
        "])\n",
        "df.columns=['color','size','price','classlabel','year']\n",
        "print(df)\n"
      ]
    },
    {
      "cell_type": "code",
      "execution_count": 9,
      "metadata": {},
      "outputs": [
        {
          "name": "stdout",
          "output_type": "stream",
          "text": [
            "透過pandas進行轉換\n",
            "color          object\n",
            "size           object\n",
            "price         float64\n",
            "classlabel     object\n",
            "year           object\n",
            "dtype: object\n",
            "指定size欄位由object轉換為category\n",
            "color           object\n",
            "size          category\n",
            "price          float64\n",
            "classlabel      object\n",
            "year            object\n",
            "dtype: object\n",
            "   color size  price classlabel  year\n",
            "0  green    M   10.1     class1  2024\n",
            "1    red    L   13.5     class2  2023\n",
            "2   blue   XL   15.3     class1  2022\n",
            "指定size欄位由category轉換為int\n",
            "color          object\n",
            "size             int8\n",
            "price         float64\n",
            "classlabel     object\n",
            "year           object\n",
            "dtype: object\n",
            "   color  size  price classlabel  year\n",
            "0  green     1   10.1     class1  2024\n",
            "1    red     0   13.5     class2  2023\n",
            "2   blue     2   15.3     class1  2022\n",
            "指定color欄位由object轉換為int\n",
            "指定color欄位由object 透過astype 轉換為int\n",
            "指定year欄位由object 透過astype 轉換為int\n",
            "color          object\n",
            "size             int8\n",
            "price         float64\n",
            "classlabel     object\n",
            "year            int64\n",
            "dtype: object\n",
            "   color  size  price classlabel  year\n",
            "0  green     1   10.1     class1  2024\n",
            "1    red     0   13.5     class2  2023\n",
            "2   blue     2   15.3     class1  2022\n"
          ]
        }
      ],
      "source": [
        "print('透過pandas進行轉換')\n",
        "df1=df.copy()\n",
        "print(df1.dtypes) #請留意year這個欄位\n",
        "print('指定size欄位由object轉換為category')\n",
        "df1['size']=df1['size'].astype('category')\n",
        "print(df1.dtypes)\n",
        "print(df1)\n",
        "print('指定size欄位由category轉換為int')\n",
        "df1['size']=df1['size'].cat.codes\n",
        "print(df1.dtypes)\n",
        "print(df1)\n",
        "print('指定color欄位由object轉換為int')\n",
        "#df1['color']=df1['color'].cat.codes\n",
        "#print(df1.dtypes)\n",
        "#print(df1)\n",
        "print('指定color欄位由object 透過astype 轉換為int')\n",
        "#df1['color']=df1['color'].astype('int')\n",
        "#print(df1.dtypes)\n",
        "#print(df1)\n",
        "print('指定year欄位由object 透過astype 轉換為int')\n",
        "df1['year']=df1['year'].astype('int')\n",
        "print(df1.dtypes)\n",
        "print(df1)"
      ]
    },
    {
      "cell_type": "code",
      "execution_count": 12,
      "metadata": {},
      "outputs": [
        {
          "name": "stdout",
          "output_type": "stream",
          "text": [
            "透過sklearn直接進行轉換\n",
            "color          object\n",
            "size            int64\n",
            "price         float64\n",
            "classlabel     object\n",
            "year           object\n",
            "dtype: object\n",
            "   color  size  price classlabel  year\n",
            "0  green     1   10.1     class1  2024\n",
            "1    red     0   13.5     class2  2023\n",
            "2   blue     2   15.3     class1  2022\n"
          ]
        }
      ],
      "source": [
        "print('透過sklearn直接進行轉換')\n",
        "df1=df.copy()\n",
        "from sklearn.preprocessing import LabelEncoder\n",
        "class_le=LabelEncoder()\n",
        "df1['size']=class_le.fit_transform(df1['size'].values)\n",
        "print(df1.dtypes)\n",
        "print(df1)"
      ]
    },
    {
      "cell_type": "code",
      "execution_count": 13,
      "metadata": {},
      "outputs": [
        {
          "name": "stdout",
          "output_type": "stream",
          "text": [
            "想要直接轉換又希望是正確的順序，那這個順序就由自己規劃\n",
            "color          object\n",
            "size            int64\n",
            "price         float64\n",
            "classlabel     object\n",
            "year           object\n",
            "dtype: object\n",
            "   color  size  price classlabel  year\n",
            "0  green     1   10.1     class1  2024\n",
            "1    red     2   13.5     class2  2023\n",
            "2   blue     3   15.3     class1  2022\n"
          ]
        }
      ],
      "source": [
        "print('想要直接轉換又希望是正確的順序，那這個順序就由自己規劃')\n",
        "df1=df.copy()\n",
        "size_mapping={'XL':3,'L':2,'M':1}\n",
        "df1['size']=df1['size'].map(size_mapping)\n",
        "print(df1.dtypes)\n",
        "print(df1)\n"
      ]
    },
    {
      "cell_type": "code",
      "execution_count": 14,
      "metadata": {},
      "outputs": [
        {
          "name": "stdout",
          "output_type": "stream",
          "text": [
            "透過pandas進行one hot encoding-1\n",
            "color          object\n",
            "size           object\n",
            "price         float64\n",
            "classlabel     object\n",
            "year           object\n",
            "dtype: object\n",
            "(3, 5)\n",
            "整個dataframe進行轉換\n",
            "   price  color_blue  color_green  color_red  size_L  size_M  size_XL  \\\n",
            "0   10.1       False         True      False   False    True    False   \n",
            "1   13.5       False        False       True    True   False    False   \n",
            "2   15.3        True        False      False   False   False     True   \n",
            "\n",
            "   classlabel_class1  classlabel_class2  year_2022  year_2023  year_2024  \n",
            "0               True              False      False      False       True  \n",
            "1              False               True      False       True      False  \n",
            "2               True              False       True      False      False  \n",
            "(3, 12)\n"
          ]
        }
      ],
      "source": [
        "print('透過pandas進行one hot encoding-1')\n",
        "df1=df.copy()\n",
        "print(df1.dtypes) #請留意year這個欄位\n",
        "print(df1.shape)\n",
        "print('整個dataframe進行轉換')\n",
        "df2=pd.get_dummies(df1)\n",
        "print(df2)\n",
        "print(df2.shape)"
      ]
    },
    {
      "cell_type": "code",
      "execution_count": 15,
      "metadata": {},
      "outputs": [
        {
          "name": "stdout",
          "output_type": "stream",
          "text": [
            "透過pandas進行one hot encoding-2\n",
            "color          object\n",
            "size           object\n",
            "price         float64\n",
            "classlabel     object\n",
            "year           object\n",
            "dtype: object\n",
            "(3, 5)\n",
            "檢查欄位的內容，若可以轉換為int就轉換為int\n",
            "color         object\n",
            "size          object\n",
            "price          int64\n",
            "classlabel    object\n",
            "year           int64\n",
            "dtype: object\n",
            "   color size  price classlabel  year\n",
            "0  green    M     10     class1  2024\n",
            "1    red    L     13     class2  2023\n",
            "2   blue   XL     15     class1  2022\n",
            "整個dataframe進行轉換\n",
            "   price  year  color_blue  color_green  color_red  size_L  size_M  size_XL  \\\n",
            "0     10  2024       False         True      False   False    True    False   \n",
            "1     13  2023       False        False       True    True   False    False   \n",
            "2     15  2022        True        False      False   False   False     True   \n",
            "\n",
            "   classlabel_class1  classlabel_class2  \n",
            "0               True              False  \n",
            "1              False               True  \n",
            "2               True              False  \n",
            "(3, 10)\n"
          ]
        }
      ],
      "source": [
        "print('透過pandas進行one hot encoding-2')\n",
        "df1=df.copy()\n",
        "print(df1.dtypes) #請留意year這個欄位\n",
        "print(df1.shape)\n",
        "print('檢查欄位的內容，若可以轉換為int就轉換為int')\n",
        "for i in df1:\n",
        "  try:\n",
        "    df1[i]=df1[i].astype('int')\n",
        "  except:\n",
        "    pass\n",
        "print(df1.dtypes)\n",
        "print(df1)\n",
        "print('整個dataframe進行轉換')\n",
        "df2=pd.get_dummies(df1)\n",
        "print(df2)\n",
        "print(df2.shape)"
      ]
    },
    {
      "cell_type": "code",
      "execution_count": 16,
      "metadata": {},
      "outputs": [
        {
          "name": "stdout",
          "output_type": "stream",
          "text": [
            "透過sklearn進行one hot encoding轉換\n",
            "檢查欄位的內容，若可以轉換為int就轉換為int\n",
            "color         object\n",
            "size          object\n",
            "price          int64\n",
            "classlabel    object\n",
            "year           int64\n",
            "dtype: object\n",
            "   color size  price classlabel  year\n",
            "0  green    M     10     class1  2024\n",
            "1    red    L     13     class2  2023\n",
            "2   blue   XL     15     class1  2022\n",
            "color         object\n",
            "size          object\n",
            "price          int64\n",
            "classlabel    object\n",
            "year           int64\n",
            "dtype: object\n",
            "(3, 5)\n",
            "color欄位進行轉換,但沒有轉為矩陣型態\n",
            "<Compressed Sparse Row sparse matrix of dtype 'float64'\n",
            "\twith 3 stored elements and shape (3, 3)>\n",
            "  Coords\tValues\n",
            "  (0, 1)\t1.0\n",
            "  (1, 2)\t1.0\n",
            "  (2, 0)\t1.0\n",
            "(3, 3)\n",
            "color欄位進行轉換,但轉為矩陣型態\n",
            "[[0. 1. 0.]\n",
            " [0. 0. 1.]\n",
            " [1. 0. 0.]]\n",
            "(3, 3)\n",
            "df2這個dataframe加上columns欄位名稱為df3\n",
            "   color_blue  color_green  color_red\n",
            "0         0.0          1.0        0.0\n",
            "1         0.0          0.0        1.0\n",
            "2         1.0          0.0        0.0\n",
            "df4使用pd.concat整合df1與df3兩個dataframe\n",
            "   color size  price classlabel  year  color_blue  color_green  color_red\n",
            "0  green    M     10     class1  2024         0.0          1.0        0.0\n",
            "1    red    L     13     class2  2023         0.0          0.0        1.0\n",
            "2   blue   XL     15     class1  2022         1.0          0.0        0.0\n",
            "df5採取全部欄位進行轉換,轉為矩陣型態\n",
            "[[0. 1. 0. 0. 1. 0. 1. 0. 0. 1. 0. 0. 0. 1.]\n",
            " [0. 0. 1. 1. 0. 0. 0. 1. 0. 0. 1. 0. 1. 0.]\n",
            " [1. 0. 0. 0. 0. 1. 0. 0. 1. 1. 0. 1. 0. 0.]]\n",
            "(3, 14)\n"
          ]
        }
      ],
      "source": [
        "print('透過sklearn進行one hot encoding轉換')\n",
        "df1=df.copy()\n",
        "print('檢查欄位的內容，若可以轉換為int就轉換為int')\n",
        "for i in df1:\n",
        "  try:\n",
        "    df1[i]=df1[i].astype('int')\n",
        "  except:\n",
        "    pass\n",
        "print(df1.dtypes)\n",
        "print(df1)\n",
        "from sklearn.preprocessing import OneHotEncoder\n",
        "ohe=OneHotEncoder()\n",
        "print(df1.dtypes) #請留意year這個欄位\n",
        "print(df1.shape)\n",
        "print('color欄位進行轉換,但沒有轉為矩陣型態')\n",
        "df2a=ohe.fit_transform(df1[['color']])\n",
        "print(df2a)\n",
        "print(df2a.shape)\n",
        "print('color欄位進行轉換,但轉為矩陣型態')\n",
        "df2=ohe.fit_transform(df1[['color']]).toarray()\n",
        "print(df2)\n",
        "print(df2.shape)\n",
        "print('df2這個dataframe加上columns欄位名稱為df3')\n",
        "df3=pd.DataFrame(df2,columns=['color_blue','color_green','color_red'])\n",
        "print(df3)\n",
        "print('df4使用pd.concat整合df1與df3兩個dataframe')\n",
        "df4=pd.concat([df1,df3],axis=1)\n",
        "print(df4)\n",
        "print('df5採取全部欄位進行轉換,轉為矩陣型態')\n",
        "df5=ohe.fit_transform(df1).toarray()\n",
        "print(df5)\n",
        "print(df5.shape)\n"
      ]
    }
  ],
  "metadata": {
    "colab": {
      "provenance": []
    },
    "kernelspec": {
      "display_name": "James",
      "language": "python",
      "name": "python3"
    },
    "language_info": {
      "codemirror_mode": {
        "name": "ipython",
        "version": 3
      },
      "file_extension": ".py",
      "mimetype": "text/x-python",
      "name": "python",
      "nbconvert_exporter": "python",
      "pygments_lexer": "ipython3",
      "version": "3.12.11"
    }
  },
  "nbformat": 4,
  "nbformat_minor": 0
}
