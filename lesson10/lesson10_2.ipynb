{
 "cells": [
  {
   "cell_type": "code",
   "execution_count": 1,
   "id": "4339ea34",
   "metadata": {},
   "outputs": [
    {
     "data": {
      "text/plain": [
       "list"
      ]
     },
     "execution_count": 1,
     "metadata": {},
     "output_type": "execute_result"
    }
   ],
   "source": [
    "#建立list\n",
    "empty_list = []\n",
    "type(empty_list)"
   ]
  },
  {
   "cell_type": "code",
   "execution_count": null,
   "id": "2832f6c7",
   "metadata": {},
   "outputs": [
    {
     "data": {
      "text/plain": [
       "0"
      ]
     },
     "execution_count": 2,
     "metadata": {},
     "output_type": "execute_result"
    }
   ],
   "source": [
    "len(empty_list) #取得長度"
   ]
  },
  {
   "cell_type": "code",
   "execution_count": 3,
   "id": "dabcd059",
   "metadata": {},
   "outputs": [
    {
     "data": {
      "text/plain": [
       "7"
      ]
     },
     "execution_count": 3,
     "metadata": {},
     "output_type": "execute_result"
    }
   ],
   "source": [
    "weekdays = ['星期一', '星期二', '星期三', '星期四', '星期五', '星期六', '星期日']\n",
    "len(weekdays)"
   ]
  },
  {
   "cell_type": "code",
   "execution_count": 4,
   "id": "ed8179c5",
   "metadata": {},
   "outputs": [
    {
     "name": "stdout",
     "output_type": "stream",
     "text": [
      "星期一\n",
      "星期二\n",
      "星期三\n",
      "星期四\n",
      "星期五\n",
      "星期六\n",
      "星期日\n"
     ]
    }
   ],
   "source": [
    "for day in weekdays:\n",
    "    print(day)"
   ]
  },
  {
   "cell_type": "code",
   "execution_count": null,
   "id": "db83478c",
   "metadata": {},
   "outputs": [
    {
     "data": {
      "text/plain": [
       "'星期日'"
      ]
     },
     "execution_count": 7,
     "metadata": {},
     "output_type": "execute_result"
    }
   ],
   "source": [
    "#取出元素\n",
    "#變數[]->subscript\n",
    "#'星期一', '星期二', '星期三', '星期四', '星期五', '星期六', '星期日'\n",
    "#   0        1         2         3        4         5        6     索引編號\n",
    "#   -7      -6        -5        -4       -3        -2       -1\n",
    "weekdays[0]\n",
    "weekdays[6]"
   ]
  },
  {
   "cell_type": "code",
   "execution_count": null,
   "id": "00096684",
   "metadata": {},
   "outputs": [
    {
     "data": {
      "text/plain": [
       "['星期一', '星期二', '星期三', '星期四', '星期五', '星期六', '星期日']"
      ]
     },
     "execution_count": 8,
     "metadata": {},
     "output_type": "execute_result"
    }
   ],
   "source": [
    "#取出部份元素\n",
    "#變數[前面:後面] (後面不包含)\n",
    "#slice->切割\n",
    "weekdays[0:3] #取0、1、2\n",
    "weekdays[:3]  #取最前面3個\n",
    "weekdays[-3:-1] #取-3、-2\n",
    "weekdays[-3:] #取最後面3個\n",
    "weekdays[:] #取全部"
   ]
  },
  {
   "cell_type": "code",
   "execution_count": null,
   "id": "a680910a",
   "metadata": {},
   "outputs": [
    {
     "data": {
      "text/plain": [
       "('a', 'A')"
      ]
     },
     "execution_count": 9,
     "metadata": {},
     "output_type": "execute_result"
    }
   ],
   "source": [
    "#tuple\n",
    "#無法修改、新增、刪除\n",
    "#暫時的資料\n",
    "('a','A')\n",
    "'a','A'"
   ]
  },
  {
   "cell_type": "code",
   "execution_count": 11,
   "id": "c2b79df5",
   "metadata": {},
   "outputs": [
    {
     "data": {
      "text/plain": [
       "300"
      ]
     },
     "execution_count": 11,
     "metadata": {},
     "output_type": "execute_result"
    }
   ],
   "source": [
    "#tuple使用拆解法\n",
    "name, score = 'robert', 300\n",
    "name\n",
    "score"
   ]
  },
  {
   "cell_type": "code",
   "execution_count": 18,
   "id": "65bf70c0",
   "metadata": {},
   "outputs": [
    {
     "data": {
      "text/plain": [
       "[10, 20, 30, 40]"
      ]
     },
     "execution_count": 18,
     "metadata": {},
     "output_type": "execute_result"
    }
   ],
   "source": [
    "#list comprehension -> list的綜合語法\n",
    "#快速建立list\n",
    "#[運算式 for 區塊變數 in 串列資料]\n",
    "[i*5 for i in range(1,10)]\n",
    "\n",
    "#[運算式 for 區塊變數 in 串列資料 if 比較運算]\n",
    "[i*5 for i in range(1,10) if i % 2 == 0]"
   ]
  }
 ],
 "metadata": {
  "kernelspec": {
   "display_name": "base",
   "language": "python",
   "name": "python3"
  },
  "language_info": {
   "codemirror_mode": {
    "name": "ipython",
    "version": 3
   },
   "file_extension": ".py",
   "mimetype": "text/x-python",
   "name": "python",
   "nbconvert_exporter": "python",
   "pygments_lexer": "ipython3",
   "version": "3.13.2"
  }
 },
 "nbformat": 4,
 "nbformat_minor": 5
}
