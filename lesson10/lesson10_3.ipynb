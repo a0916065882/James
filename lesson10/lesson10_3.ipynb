{
 "cells": [
  {
   "cell_type": "code",
   "execution_count": 2,
   "id": "220dae40",
   "metadata": {},
   "outputs": [],
   "source": [
    "#類別\n",
    "#實體"
   ]
  },
  {
   "cell_type": "code",
   "execution_count": 4,
   "id": "bc7ea51d",
   "metadata": {},
   "outputs": [
    {
     "name": "stdout",
     "output_type": "stream",
     "text": [
      "<class 'list'>\n",
      "[0, 1, 2, 3, 4, 5, 6, 7, 8, 9, 10]\n"
     ]
    }
   ],
   "source": [
    "my_list:list = [i for i in range(10)]\n",
    "print(type(my_list))\n",
    "#list的實體方法\n",
    "my_list.append(10)\n",
    "print(my_list)"
   ]
  },
  {
   "cell_type": "code",
   "execution_count": 7,
   "id": "eac648fd",
   "metadata": {},
   "outputs": [
    {
     "ename": "ValueError",
     "evalue": "list.remove(x): x not in list",
     "output_type": "error",
     "traceback": [
      "\u001b[31m---------------------------------------------------------------------------\u001b[39m",
      "\u001b[31mValueError\u001b[39m                                Traceback (most recent call last)",
      "\u001b[36mCell\u001b[39m\u001b[36m \u001b[39m\u001b[32mIn[7]\u001b[39m\u001b[32m, line 5\u001b[39m\n\u001b[32m      3\u001b[39m my_list.extend([\u001b[32m11\u001b[39m, \u001b[32m12\u001b[39m])  \u001b[38;5;66;03m#在列表末尾添加多個元素\u001b[39;00m\n\u001b[32m      4\u001b[39m my_list.insert(\u001b[32m0\u001b[39m, -\u001b[32m1\u001b[39m)  \u001b[38;5;66;03m#在指定位置插入元素\u001b[39;00m\n\u001b[32m----> \u001b[39m\u001b[32m5\u001b[39m \u001b[43mmy_list\u001b[49m\u001b[43m.\u001b[49m\u001b[43mremove\u001b[49m\u001b[43m(\u001b[49m\u001b[32;43m10\u001b[39;49m\u001b[43m)\u001b[49m  \u001b[38;5;66;03m#移除列表中的第一個匹配項\u001b[39;00m\n\u001b[32m      6\u001b[39m my_list.pop()  \u001b[38;5;66;03m#移除並返回列表中的最後一個元素\u001b[39;00m\n",
      "\u001b[31mValueError\u001b[39m: list.remove(x): x not in list"
     ]
    }
   ],
   "source": [
    "#建立my_list常用的實體方法\n",
    "my_list.clear()  # 清空列表\n",
    "my_list.extend([11, 12])  #在列表末尾添加多個元素\n",
    "my_list.insert(0, -1)  #在指定位置插入元素\n",
    "my_list.remove(10)  #移除列表中的第一個匹配項\n",
    "my_list.pop()  #移除並返回列表中的最後一個元素"
   ]
  },
  {
   "cell_type": "code",
   "execution_count": 11,
   "id": "021ca63a",
   "metadata": {},
   "outputs": [
    {
     "data": {
      "text/plain": [
       "['robert', 'jenny', 'alice']"
      ]
     },
     "execution_count": 11,
     "metadata": {},
     "output_type": "execute_result"
    }
   ],
   "source": [
    "#str的實體方法\n",
    "\"taipei\".upper()\n",
    "\"taipei\".capitalize()\n",
    "\"  taipei \".strip()\n",
    "\"robert,jenny,alice\".split(\",\")"
   ]
  }
 ],
 "metadata": {
  "kernelspec": {
   "display_name": "base",
   "language": "python",
   "name": "python3"
  },
  "language_info": {
   "codemirror_mode": {
    "name": "ipython",
    "version": 3
   },
   "file_extension": ".py",
   "mimetype": "text/x-python",
   "name": "python",
   "nbconvert_exporter": "python",
   "pygments_lexer": "ipython3",
   "version": "3.13.2"
  }
 },
 "nbformat": 4,
 "nbformat_minor": 5
}
