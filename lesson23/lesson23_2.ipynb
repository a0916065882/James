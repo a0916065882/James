{
 "cells": [
  {
   "cell_type": "code",
   "execution_count": 2,
   "id": "e318ff7d",
   "metadata": {},
   "outputs": [
    {
     "name": "stdout",
     "output_type": "stream",
     "text": [
      "前面是母體與樣本比較\n",
      "平均與標準差代表的意義\n",
      "班級1的平均數: 77.5\n",
      "班級2的平均數: 77.5\n",
      "只看平均會認為這兩個班級水準相同\n",
      "查看標準差，若標準差較大，代表資料分布不集中，可能有較大或較小的數值\n",
      "班級1的標準差: 1.5652475842498528\n",
      "班級2的標準差: 14.575664650368434\n"
     ]
    }
   ],
   "source": [
    "import numpy as np\n",
    "import matplotlib.pyplot as plt\n",
    "print('前面是母體與樣本比較')\n",
    "print('平均與標準差代表的意義')\n",
    "class1=[78,77,75,80,78,76,77,78,80,76]\n",
    "print('班級1的平均數:',np.mean(class1))\n",
    "class2=[38,97,75,80,78,86,87,78,80,76]\n",
    "print('班級2的平均數:',np.mean(class2))\n",
    "print('只看平均會認為這兩個班級水準相同')\n",
    "print('查看標準差，若標準差較大，代表資料分布不集中，可能有較大或較小的數值')\n",
    "print('班級1的標準差:',np.std(class1))\n",
    "print('班級2的標準差:',np.std(class2))"
   ]
  },
  {
   "cell_type": "code",
   "execution_count": null,
   "id": "7f490b4c",
   "metadata": {},
   "outputs": [
    {
     "name": "stdout",
     "output_type": "stream",
     "text": [
      "前面是群體的比較，若有兩個科目，國文第十位同學與數學的第八位同學是一樣好\n",
      "事實上平均與標準差不同，這兩種資料的比較就會有差距\n",
      "得用z分數推算，將平均設定為0，標準差為1，同樣標準下查看兩個差異\n",
      "zcore1= -0.9583148474999099\n",
      "zcore2= -0.10291125900471948\n",
      "第二個比較接近平均值，第二個會比較好\n"
     ]
    }
   ],
   "source": [
    "import numpy as np\n",
    "import matplotlib.pyplot as plt\n",
    "chinese=[78,77,75,80,78,76,77,78,80,76]\n",
    "math=[38,97,75,80,78,86,87,76,78,80]\n",
    "print('前面是群體的比較，若有兩個科目，國文第十位同學與數學的第八位同學是一樣好')\n",
    "print('事實上平均與標準差不同，這兩種資料的比較就會有差距')\n",
    "print('得用z分數推算，將平均設定為0，標準差為1，同樣標準下查看兩個差異')\n",
    "mean1=np.mean(class1)\n",
    "mean2=np.mean(class2)\n",
    "std1=np.std(class1)\n",
    "std2=np.std(class2)\n",
    "zcore1=(76-mean1)/std1\n",
    "zcore2=(76-mean2)/std2\n",
    "print('zcore1=',zcore1)\n",
    "print('zcore2=',zcore2)\n",
    "print('第二個比較接近平均值，第二個會比較好')"
   ]
  },
  {
   "cell_type": "code",
   "execution_count": null,
   "id": "44fa496a",
   "metadata": {},
   "outputs": [
    {
     "name": "stdout",
     "output_type": "stream",
     "text": [
      "這兩個科目，有沒有互動關係?國文好數學就好?國文好數學就差?\n",
      "統計上的相關係數可以進行推導\n",
      "[[ 1.         -0.16436898]\n",
      " [-0.16436898  1.        ]]\n"
     ]
    }
   ],
   "source": [
    "import numpy as np\n",
    "import matplotlib.pyplot as plt\n",
    "chinese=[78,77,75,80,78,76,77,78,80,76]\n",
    "math=[38,97,75,80,78,86,87,76,78,80]\n",
    "print('這兩個科目，有沒有互動關係?國文好數學就好?國文好數學就差?')\n",
    "print('統計上的相關係數可以進行推導')\n",
    "corr=np.corrcoef(chinese,math) #corrcoef是計算相關係數的函數\n",
    "print(corr)\n",
    "#相關係數如果大於0.7 代表兩個是正相關，A增加B一定增加\n",
    "#相關係數如果小於-0.7 代表兩個是負相關，A增加B一定減少\n",
    "#目前兩個關係是-0.16 代表兩個幾乎沒有關係"
   ]
  },
  {
   "cell_type": "code",
   "execution_count": null,
   "id": "70e9096d",
   "metadata": {},
   "outputs": [
    {
     "name": "stdout",
     "output_type": "stream",
     "text": [
      "這兩個科目，如果是同一個人的成績，哪一個成績變動幅度比較大?\n",
      "統計上的共變異數可以進行推導\n",
      "[[  2.72222222  -4.16666667]\n",
      " [ -4.16666667 236.05555556]]\n"
     ]
    }
   ],
   "source": [
    "import numpy as np\n",
    "import matplotlib.pyplot as plt\n",
    "chinese=[78,77,75,80,78,76,77,78,80,76]\n",
    "math=[38,97,75,80,78,86,87,76,78,80]\n",
    "print('這兩個科目，如果是同一個人的成績，哪一個成績變動幅度比較大?')\n",
    "print('統計上的共變異數可以進行推導')\n",
    "cov=np.cov(chinese,math) #cov是計算共變異數的函數\n",
    "print(cov)\n",
    "#chinese變異數是2.72，math的變異數是236.055 ，兩個共變異數是-4.16\n",
    "#數字越大代表變動幅度越大\n",
    "#目前兩個關係是-4.16 代表兩個幾乎沒有關係"
   ]
  }
 ],
 "metadata": {
  "kernelspec": {
   "display_name": "James",
   "language": "python",
   "name": "python3"
  },
  "language_info": {
   "codemirror_mode": {
    "name": "ipython",
    "version": 3
   },
   "file_extension": ".py",
   "mimetype": "text/x-python",
   "name": "python",
   "nbconvert_exporter": "python",
   "pygments_lexer": "ipython3",
   "version": "3.12.11"
  }
 },
 "nbformat": 4,
 "nbformat_minor": 5
}
