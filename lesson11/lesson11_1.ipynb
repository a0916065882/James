{
 "cells": [
  {
   "cell_type": "code",
   "execution_count": null,
   "id": "53aadcbb",
   "metadata": {},
   "outputs": [],
   "source": [
    "#自訂function\n",
    "#自訂module:放function、class、常數\n",
    "#自訂packge:必有一個__init__檔案\n",
    "#內建class(工廠)\n",
    "#實體(工廠生產出來)\n",
    "#tuple、list、dict\n",
    "\n",
    "#資料結構:\n",
    "#   tuple           list(串列、序列)                  dict(dictionary詞典)\n",
    "#(xxx,xxx,xxx)       [xxx,xxx,xxx]             key   'tw'       'jp'        'hk'\n",
    "#                                             value 'taiwan'   'Japan'   'Hong kong'\n",
    "#                                                        Mapping(映射)\n",
    "#                                                  {key:value,key:value,key:value}\n",
    "#                                                  {key:value,\n",
    "#                                                  key:value,\n",
    "#                                                  key:value}"
   ]
  },
  {
   "cell_type": "code",
   "execution_count": 3,
   "id": "d83e72b9",
   "metadata": {},
   "outputs": [
    {
     "name": "stdout",
     "output_type": "stream",
     "text": [
      "[['林佳人', 57, 59, 87], ['陳家年', 72, 87, 88], ['蘇婷婷', 75, 100, 57]]\n"
     ]
    }
   ],
   "source": [
    "#有一個names.txt\n",
    "#讀取names.txt\n",
    "#請隨機取出3個名字\n",
    "import random\n",
    "\n",
    "def sample_names_from_file(file_name: str, nums: int = 1) -> list[str]:\n",
    "    \"\"\"\n",
    "    從指定的檔案中讀取所有姓名，並隨機取出指定數量的姓名。\n",
    "\n",
    "    參數:\n",
    "        file_name (str): 檔案名稱，檔案內容為姓名，每行一個。\n",
    "        nums (int): 要隨機取出的姓名數量，預設為1。\n",
    "\n",
    "    回傳:\n",
    "        list[str]: 隨機取出的姓名列表。\n",
    "    \"\"\"\n",
    "    with open(file_name, encoding=\"utf-8\") as file:\n",
    "        content: str = file.read()\n",
    "        names: list[str] = content.split()\n",
    "        return random.sample(names, nums)\n",
    "\n",
    "#建立一個自訂function,這個參數會傳入一個name\n",
    "#建立2維的list,結構如下\n",
    "#每個姓名有3個分數,分數是(50~100)的隨機數\n",
    "#輸出結果：[['陳怡伶',67,92,97],['馮芳如',98,86,75],['蒙淑惠',76,65,59]]\n",
    "\n",
    "def generate_scores_for_names(names: list[str]) -> list[list]:\n",
    "    \"\"\"\n",
    "    為每個姓名生成3個隨機分數。\n",
    "\n",
    "    參數:\n",
    "        names (list[str]): 姓名列表。\n",
    "\n",
    "    回傳:\n",
    "        list[list]: 包含姓名和3個隨機分數的2維列表。\n",
    "    \"\"\"\n",
    "    result_list = []\n",
    "    for person_name in names:\n",
    "        person_scores = [person_name] + [random.randint(50, 100) for _ in range(3)]\n",
    "        result_list.append(person_scores)\n",
    "\n",
    "    return result_list\n",
    "\n",
    "\n",
    "def main():\n",
    "    names: list[str] = sample_names_from_file(\"names.txt\", nums=3)\n",
    "    scores: list[list] = generate_scores_for_names(names)\n",
    "    print(scores)\n",
    "\n",
    "if __name__ == \"__main__\":\n",
    "    main()"
   ]
  },
  {
   "cell_type": "code",
   "execution_count": 2,
   "id": "4d92ecaa",
   "metadata": {},
   "outputs": [
    {
     "data": {
      "text/plain": [
       "'Taiwan'"
      ]
     },
     "execution_count": 2,
     "metadata": {},
     "output_type": "execute_result"
    }
   ],
   "source": [
    "#dict,一組有關聯的資料\n",
    "\n",
    "country_codes = {\n",
    "  \"tw\": \"Taiwan\",\n",
    "  \"jp\": \"Japan\",\n",
    "  \"us\": \"United States\"\n",
    "}\n",
    "country_codes[\"es\"] = \"Spain\"  # 新增一個國家\n",
    "country_codes[\"tw\"] "
   ]
  },
  {
   "cell_type": "code",
   "execution_count": 5,
   "id": "c785a882",
   "metadata": {},
   "outputs": [
    {
     "data": {
      "text/plain": [
       "{'tw': 'Taiwan', 'jp': 'Japan', 'us': 'United States', 'es': 'Spain'}"
      ]
     },
     "execution_count": 5,
     "metadata": {},
     "output_type": "execute_result"
    }
   ],
   "source": [
    "country_codes[\"jp\"]  # 取得日本的名稱\n",
    "country_codes"
   ]
  },
  {
   "cell_type": "code",
   "execution_count": 3,
   "id": "b23ae755",
   "metadata": {},
   "outputs": [
    {
     "name": "stdout",
     "output_type": "stream",
     "text": [
      "tw:Taiwan\n",
      "jp:Japan\n",
      "us:United States\n",
      "es:Spain\n"
     ]
    }
   ],
   "source": [
    "#使用for..in mapping\n",
    "\n",
    "for key in country_codes:\n",
    "    print(f\"{key}:{country_codes[key]}\")"
   ]
  },
  {
   "cell_type": "code",
   "execution_count": 4,
   "id": "35a82938",
   "metadata": {},
   "outputs": [
    {
     "data": {
      "text/plain": [
       "False"
      ]
     },
     "execution_count": 4,
     "metadata": {},
     "output_type": "execute_result"
    }
   ],
   "source": [
    "#使用 字串 in mapping\n",
    "#檢查dict有沒有這個key\n",
    "\n",
    "\"jp\" in country_codes\n",
    "\"hk\" in country_codes"
   ]
  },
  {
   "cell_type": "code",
   "execution_count": 5,
   "id": "9a04822b",
   "metadata": {},
   "outputs": [
    {
     "name": "stdout",
     "output_type": "stream",
     "text": [
      "沒有這個key\n"
     ]
    }
   ],
   "source": [
    "if \"hk\" in country_codes:\n",
    "    print(country_codes[\"hk\"])\n",
    "else:\n",
    "    print(\"沒有這個key\")"
   ]
  },
  {
   "cell_type": "code",
   "execution_count": 6,
   "id": "aa0f8cd3",
   "metadata": {},
   "outputs": [
    {
     "data": {
      "text/plain": [
       "'沒有這個key'"
      ]
     },
     "execution_count": 6,
     "metadata": {},
     "output_type": "execute_result"
    }
   ],
   "source": [
    "country_codes.get(\"hk\", \"沒有這個key\")"
   ]
  },
  {
   "cell_type": "code",
   "execution_count": 7,
   "id": "bb1ea0b2",
   "metadata": {},
   "outputs": [
    {
     "name": "stdout",
     "output_type": "stream",
     "text": [
      "tw\n",
      "jp\n",
      "us\n",
      "es\n"
     ]
    }
   ],
   "source": [
    "country_codes.keys() #like list\n",
    "for key in country_codes.keys():\n",
    "    print(key)"
   ]
  },
  {
   "cell_type": "code",
   "execution_count": 8,
   "id": "43bc95ce",
   "metadata": {},
   "outputs": [
    {
     "name": "stdout",
     "output_type": "stream",
     "text": [
      "Taiwan\n",
      "Japan\n",
      "United States\n",
      "Spain\n"
     ]
    }
   ],
   "source": [
    "for value in country_codes.values():\n",
    "    print(value)"
   ]
  },
  {
   "cell_type": "code",
   "execution_count": 9,
   "id": "3c744227",
   "metadata": {},
   "outputs": [
    {
     "name": "stdout",
     "output_type": "stream",
     "text": [
      "tw:Taiwan\n",
      "jp:Japan\n",
      "us:United States\n",
      "es:Spain\n"
     ]
    }
   ],
   "source": [
    "for key,value in country_codes.items():\n",
    "    print(f\"{key}:{value}\")"
   ]
  }
 ],
 "metadata": {
  "kernelspec": {
   "display_name": "base",
   "language": "python",
   "name": "python3"
  },
  "language_info": {
   "codemirror_mode": {
    "name": "ipython",
    "version": 3
   },
   "file_extension": ".py",
   "mimetype": "text/x-python",
   "name": "python",
   "nbconvert_exporter": "python",
   "pygments_lexer": "ipython3",
   "version": "3.13.2"
  }
 },
 "nbformat": 4,
 "nbformat_minor": 5
}
