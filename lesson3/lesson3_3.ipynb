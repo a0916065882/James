{
 "cells": [
  {
   "cell_type": "code",
   "execution_count": 8,
   "id": "8a06b443",
   "metadata": {},
   "outputs": [
    {
     "name": "stdout",
     "output_type": "stream",
     "text": [
      "梯形面積: 40.02\n"
     ]
    }
   ],
   "source": [
    "# 請輸入梯形的上底(公分):5\n",
    "# 請輸入梯形的下底(公分):10\n",
    "# 請輸入梯形的高(公分):2\n",
    "top = 13.5\n",
    "bottom = 21.3\n",
    "heigh = 2.3\n",
    "area = (top + bottom) * heigh / 2\n",
    "print('梯形面積:',round(area,ndigits=2))"
   ]
  },
  {
   "cell_type": "code",
   "execution_count": 11,
   "id": "8148c96e",
   "metadata": {},
   "outputs": [
    {
     "name": "stdout",
     "output_type": "stream",
     "text": [
      "梯形面積: 2147.85\n"
     ]
    }
   ],
   "source": [
    "# 請輸入梯形的上底(公分):5\n",
    "# 請輸入梯形的下底(公分):10\n",
    "# 請輸入梯形的高(公分):2\n",
    "top = float(input('請輸入上底(公分):'))\n",
    "bottom = float(input('請輸入下底(公分):'))\n",
    "heigh = float(input('請輸入高(公分):'))\n",
    "area = (top + bottom) * heigh / 2\n",
    "print('梯形面積:',round(area,ndigits=2))"
   ]
  }
 ],
 "metadata": {
  "kernelspec": {
   "display_name": "base",
   "language": "python",
   "name": "python3"
  },
  "language_info": {
   "codemirror_mode": {
    "name": "ipython",
    "version": 3
   },
   "file_extension": ".py",
   "mimetype": "text/x-python",
   "name": "python",
   "nbconvert_exporter": "python",
   "pygments_lexer": "ipython3",
   "version": "3.13.2"
  }
 },
 "nbformat": 4,
 "nbformat_minor": 5
}
