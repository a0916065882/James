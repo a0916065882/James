{
 "cells": [
  {
   "cell_type": "code",
   "execution_count": 5,
   "id": "10fc6af3",
   "metadata": {},
   "outputs": [
    {
     "name": "stdout",
     "output_type": "stream",
     "text": [
      "三數加總: 58.0\n"
     ]
    }
   ],
   "source": [
    "value1 = float(input('請輸入第1個值:'))\n",
    "value2 = float(input('請輸入第2個值:'))\n",
    "value3 = float(input('請輸入第3個值:'))\n",
    "total = value1 + value2 + value3\n",
    "print('三數加總:',total)"
   ]
  }
 ],
 "metadata": {
  "kernelspec": {
   "display_name": "base",
   "language": "python",
   "name": "python3"
  },
  "language_info": {
   "codemirror_mode": {
    "name": "ipython",
    "version": 3
   },
   "file_extension": ".py",
   "mimetype": "text/x-python",
   "name": "python",
   "nbconvert_exporter": "python",
   "pygments_lexer": "ipython3",
   "version": "3.13.2"
  }
 },
 "nbformat": 4,
 "nbformat_minor": 5
}
