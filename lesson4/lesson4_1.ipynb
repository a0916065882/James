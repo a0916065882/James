{
 "cells": [
  {
   "cell_type": "code",
   "execution_count": 5,
   "id": "10fc6af3",
   "metadata": {},
   "outputs": [
    {
     "name": "stdout",
     "output_type": "stream",
     "text": [
      "三數加總: 58.0\n"
     ]
    }
   ],
   "source": [
    "value1 = float(input('請輸入第1個值:'))\n",
    "value2 = float(input('請輸入第2個值:'))\n",
    "value3 = float(input('請輸入第3個值:'))\n",
    "total = value1 + value2 + value3\n",
    "print('三數加總:',total)"
   ]
  },
  {
   "cell_type": "code",
   "execution_count": null,
   "id": "4e190510",
   "metadata": {},
   "outputs": [
    {
     "name": "stdout",
     "output_type": "stream",
     "text": [
      "3 5.0 您好 True 78.9\n"
     ]
    }
   ],
   "source": [
    "#print()無限制引數數量\n",
    "print(3, \"5.0\", \"您好\", True, 78.9)"
   ]
  },
  {
   "cell_type": "code",
   "execution_count": 11,
   "id": "0642f16d",
   "metadata": {},
   "outputs": [
    {
     "name": "stdout",
     "output_type": "stream",
     "text": [
      "n= 50\n"
     ]
    }
   ],
   "source": [
    "n = 25\n",
    "n = n + 25\n",
    "print(\"n=\", n)"
   ]
  },
  {
   "cell_type": "code",
   "execution_count": null,
   "id": "dbda66b6",
   "metadata": {},
   "outputs": [
    {
     "name": "stdout",
     "output_type": "stream",
     "text": [
      "n= 100\n"
     ]
    }
   ],
   "source": [
    "#複合指定運算子\n",
    "# +=\n",
    "# -=\n",
    "# *=\n",
    "\n",
    "n = 25\n",
    "n += 25 #25 +25\n",
    "n *= 2 #50 * 2\n",
    "print('n=',n)"
   ]
  },
  {
   "cell_type": "code",
   "execution_count": 14,
   "id": "893dd0aa",
   "metadata": {},
   "outputs": [
    {
     "name": "stdout",
     "output_type": "stream",
     "text": [
      "三數加總: 61.699999999999996\n"
     ]
    }
   ],
   "source": [
    "#複合指定運算子\n",
    "total = 0\n",
    "value = float(input('請輸入第一個值:'))\n",
    "total += value\n",
    "\n",
    "value = float(input('請輸入第二個值:'))\n",
    "total += value\n",
    "\n",
    "value = float(input('請輸入第三個值:'))\n",
    "total += value\n",
    "\n",
    "print('三數加總:',total)"
   ]
  },
  {
   "cell_type": "code",
   "execution_count": null,
   "id": "7ebdc948",
   "metadata": {},
   "outputs": [
    {
     "name": "stdout",
     "output_type": "stream",
     "text": [
      "a= 3.0\n",
      "b= 4.0\n",
      "斜邊為 5.0\n"
     ]
    }
   ],
   "source": [
    "#直角三角形運算\n",
    "import math #代入數學工具箱\n",
    "a = float(input('請輸入a='))\n",
    "b = float(input('請輸入b='))\n",
    "c = math.sqrt(a ** 2 + b ** 2) #sqrt()為math工具箱中的開根號\n",
    "\n",
    "print('a=',a)\n",
    "print('b=',b)\n",
    "print('斜邊為',c)"
   ]
  },
  {
   "cell_type": "code",
   "execution_count": null,
   "id": "34c1e3dc",
   "metadata": {},
   "outputs": [
    {
     "name": "stdout",
     "output_type": "stream",
     "text": [
      "直角三角形的角度是: 36.86989764584402\n"
     ]
    }
   ],
   "source": [
    "import math\n",
    "斜邊 = float(input('請輸入斜邊:'))\n",
    "對邊 = float(input('請輸入對邊:'))\n",
    "radian = math.asin(對邊/斜邊) #radian=弧度(弳度)\n",
    "degree = math.degrees(radian) #degree=角度\n",
    "print('直角三角形的角度是:',degree)"
   ]
  },
  {
   "cell_type": "code",
   "execution_count": null,
   "id": "2be82acc",
   "metadata": {},
   "outputs": [
    {
     "data": {
      "text/plain": [
       "1.171334200612195"
      ]
     },
     "execution_count": 18,
     "metadata": {},
     "output_type": "execute_result"
    }
   ],
   "source": [
    "import statistics #代入數學統計函式工具箱\n",
    "statistics.stdev([2.75, 1.75, 1.25, 0.25, 0.5, 1.25, 3.5]) #代入標準差函式"
   ]
  }
 ],
 "metadata": {
  "kernelspec": {
   "display_name": "base",
   "language": "python",
   "name": "python3"
  },
  "language_info": {
   "codemirror_mode": {
    "name": "ipython",
    "version": 3
   },
   "file_extension": ".py",
   "mimetype": "text/x-python",
   "name": "python",
   "nbconvert_exporter": "python",
   "pygments_lexer": "ipython3",
   "version": "3.13.2"
  }
 },
 "nbformat": 4,
 "nbformat_minor": 5
}
