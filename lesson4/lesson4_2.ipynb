{
 "cells": [
  {
   "cell_type": "code",
   "execution_count": 12,
   "id": "0c295a75",
   "metadata": {},
   "outputs": [],
   "source": [
    "#如何得到bool值\n",
    "#1.比較(關係)運算子\n",
    "#2.邏輯運算子\n",
    "\n",
    "#關係運算子\n",
    "# < 小於\n",
    "# <= 小於等於\n",
    "# > 大於\n",
    "# >=大於等於\n",
    "# == 兩邊是否等於\n",
    "# != 兩邊是否不等於\n"
   ]
  },
  {
   "cell_type": "code",
   "execution_count": 9,
   "id": "40f4bd60",
   "metadata": {},
   "outputs": [
    {
     "name": "stdout",
     "output_type": "stream",
     "text": [
      "True\n",
      "False\n",
      "True\n",
      "False\n"
     ]
    }
   ],
   "source": [
    "print(5 > 3)\n",
    "print(3 > 5)\n",
    "print(5 == 5)\n",
    "print(5 != 5)"
   ]
  },
  {
   "cell_type": "code",
   "execution_count": 6,
   "id": "5a75792e",
   "metadata": {},
   "outputs": [
    {
     "name": "stdout",
     "output_type": "stream",
     "text": [
      "不及格\n"
     ]
    }
   ],
   "source": [
    "#雙向選擇\n",
    "score = 50\n",
    "if score >= 60:\n",
    "    print(\"及格\")\n",
    "else:\n",
    "    print(\"不及格\")"
   ]
  },
  {
   "cell_type": "code",
   "execution_count": 14,
   "id": "45c99f27",
   "metadata": {},
   "outputs": [
    {
     "name": "stdout",
     "output_type": "stream",
     "text": [
      "不及格\n"
     ]
    }
   ],
   "source": [
    "#雙向選擇\n",
    "score = int(input('請輸入分數:'))\n",
    "if score >= 60:\n",
    "    print(\"及格\")\n",
    "else:\n",
    "    print(\"不及格\")"
   ]
  },
  {
   "cell_type": "code",
   "execution_count": 18,
   "id": "0dc12199",
   "metadata": {},
   "outputs": [
    {
     "name": "stdout",
     "output_type": "stream",
     "text": [
      "學生分數為: 262\n"
     ]
    }
   ],
   "source": [
    "#學生總分300分\n",
    "#有些學生可以加5%\n",
    "scores = int(input('請輸入學生分數(最高300分):'))\n",
    "is_add = input('是否符合加分?(y,n)')\n",
    "if is_add == 'y':\n",
    "    scores *= 1.05\n",
    "print('學生分數為:',round(scores))"
   ]
  }
 ],
 "metadata": {
  "kernelspec": {
   "display_name": "base",
   "language": "python",
   "name": "python3"
  },
  "language_info": {
   "codemirror_mode": {
    "name": "ipython",
    "version": 3
   },
   "file_extension": ".py",
   "mimetype": "text/x-python",
   "name": "python",
   "nbconvert_exporter": "python",
   "pygments_lexer": "ipython3",
   "version": "3.13.2"
  }
 },
 "nbformat": 4,
 "nbformat_minor": 5
}
