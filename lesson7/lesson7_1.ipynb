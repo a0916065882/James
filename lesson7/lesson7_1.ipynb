{
 "cells": [
  {
   "cell_type": "code",
   "execution_count": 1,
   "id": "aca05875",
   "metadata": {},
   "outputs": [
    {
     "name": "stdout",
     "output_type": "stream",
     "text": [
      "格式錯誤 could not convert string to float: ''\n",
      "計算完成\n"
     ]
    }
   ],
   "source": [
    "try:\n",
    "    height = float(input(\"請輸入身高(120-250cm):\"))\n",
    "    if not(120 <= height <= 250):\n",
    "        raise Exception(\"輸入的身高不在範圍內\")\n",
    "    \n",
    "    weight = float(input(\"請輸入體重(30-200kg):\"))\n",
    "    if not(30 <= weight <= 200):\n",
    "        raise Exception(\"輸入的體重不在範圍內\")\n",
    "\n",
    "    print(\"您的身高為:\",height,\"cm\")\n",
    "    print(\"您的體重為:\",weight,\"kg\")\n",
    "        \n",
    "except ValueError as e:\n",
    "    print(\"格式錯誤\",e)\n",
    "except Exception as e:\n",
    "    print(e)\n",
    "else:\n",
    "    bmi = weight / (height / 100) ** 2\n",
    "    print(\"您的bmi是:\",round(bmi,ndigits = 1))\n",
    "\n",
    "    if bmi < 18.5:\n",
    "        bmi_value = '體重過輕'\n",
    "    elif bmi < 24:\n",
    "        bmi_value = '正常範圍'\n",
    "    elif bmi < 27:\n",
    "        bmi_value = '過重'\n",
    "    elif bmi < 30:\n",
    "        bmi_value = '輕度肥胖'\n",
    "    elif bmi < 35:\n",
    "        bmi_value = '中度肥胖'\n",
    "    else:\n",
    "        bmi_value = '重度肥胖'\n",
    "    print(\"BMI狀態為:\",bmi_value)\n",
    "finally:\n",
    "    print(\"計算完成\")"
   ]
  },
  {
   "cell_type": "code",
   "execution_count": null,
   "id": "3ac581ed",
   "metadata": {},
   "outputs": [
    {
     "name": "stdout",
     "output_type": "stream",
     "text": [
      "15 的因數：1 3 5 15 "
     ]
    }
   ],
   "source": [
    "value = int(input(\"請輸入一整數：\"))\n",
    "print(f\"{value} 的因數：\",end='')\n",
    "\n",
    "factor = 1\n",
    "while (factor <= value):\n",
    "    if value % factor == 0:\n",
    "        print(factor,end=' ')\n",
    "    factor += 1"
   ]
  },
  {
   "cell_type": "code",
   "execution_count": null,
   "id": "a9800ee0",
   "metadata": {},
   "outputs": [
    {
     "name": "stdout",
     "output_type": "stream",
     "text": [
      "15 及 30 的公因數： 1 3 5 15 "
     ]
    }
   ],
   "source": [
    "value1 = int(input(\"請輸入第一個整數：\"))\n",
    "value2 = int(input(\"請輸入第二個整數：\"))\n",
    "print(f\"{value1} 及 {value2} 的公因數：\",end=' ')\n",
    "\n",
    "factor = 1\n",
    "while (factor <= value1 and factor <= value2):\n",
    "    if value1 % factor == 0 and value2 % factor == 0:\n",
    "        print(factor,end=' ')\n",
    "    factor += 1"
   ]
  }
 ],
 "metadata": {
  "kernelspec": {
   "display_name": "base",
   "language": "python",
   "name": "python3"
  },
  "language_info": {
   "codemirror_mode": {
    "name": "ipython",
    "version": 3
   },
   "file_extension": ".py",
   "mimetype": "text/x-python",
   "name": "python",
   "nbconvert_exporter": "python",
   "pygments_lexer": "ipython3",
   "version": "3.13.2"
  }
 },
 "nbformat": 4,
 "nbformat_minor": 5
}
