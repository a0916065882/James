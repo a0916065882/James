{
 "cells": [
  {
   "cell_type": "code",
   "execution_count": null,
   "id": "0c65d38d",
   "metadata": {},
   "outputs": [
    {
     "name": "stdout",
     "output_type": "stream",
     "text": [
      "==========猜數字遊戲===========\n",
      "\n"
     ]
    },
    {
     "name": "stdout",
     "output_type": "stream",
     "text": [
      "賓果!猜對了,答案是:5\n",
      "您猜了1次\n",
      "遊戲結束\n"
     ]
    }
   ],
   "source": [
    "#猜數字遊戲\n",
    "import random\n",
    "min = 1\n",
    "max = 10\n",
    "count = 0\n",
    "guess_value = random.randint(min,max)\n",
    "print(\"==========猜數字遊戲===========\\n\")\n",
    "while(True):\n",
    "    keyin = int(input(f\"猜數字範圍{min}~{max}\"))\n",
    "    count += 1\n",
    "    if keyin >= min and keyin <= max:\n",
    "        if keyin == guess_value:\n",
    "            print(f\"賓果!猜對了,答案是:{guess_value}\")\n",
    "            print(f\"您猜了{count}次\")\n",
    "            break\n",
    "        else:\n",
    "            print('沒有猜中!!!')\n",
    "    else:\n",
    "        print('請輸入提示範圍內的數字')\n",
    "print('遊戲結束')"
   ]
  },
  {
   "cell_type": "code",
   "execution_count": 1,
   "id": "ce536ecb",
   "metadata": {},
   "outputs": [
    {
     "name": "stdout",
     "output_type": "stream",
     "text": [
      "==========猜數字遊戲===========\n",
      "\n",
      "再小一點!\n",
      "您已經猜1次\n",
      "再大一點\n",
      "您已經猜2次\n",
      "再大一點\n",
      "您已經猜3次\n",
      "再小一點!\n",
      "您已經猜4次\n",
      "再小一點!\n",
      "您已經猜5次\n",
      "賓果!猜對了,答案是:32\n",
      "您猜了6次\n",
      "遊戲結束\n"
     ]
    }
   ],
   "source": [
    "#猜數字遊戲 提示版\n",
    "import random\n",
    "min = 1\n",
    "max = 100\n",
    "count = 0\n",
    "guess_value = random.randint(min,max)\n",
    "print(\"==========猜數字遊戲===========\\n\")\n",
    "while(True):\n",
    "    keyin = int(input(f\"猜數字範圍{min}~{max}\"))\n",
    "    count += 1\n",
    "    if keyin >= min and keyin <= max:\n",
    "        if(keyin == guess_value):\n",
    "            print(f\"賓果!猜對了,答案是:{guess_value}\")\n",
    "            print(f\"您猜了{count}次\")\n",
    "            break\n",
    "        elif keyin > guess_value:\n",
    "            print(\"再小一點!\")\n",
    "            max = keyin - 1\n",
    "        \n",
    "        else:\n",
    "            print(\"再大一點\")\n",
    "            min = keyin + 1\n",
    "\n",
    "        print(f\"您已經猜{count}次\")\n",
    "        \n",
    "    else:\n",
    "        print(\"請輸入提示範圍內的數字\")\n",
    "\n",
    "print(\"遊戲結束\")"
   ]
  },
  {
   "cell_type": "code",
   "execution_count": null,
   "id": "f6ab4de7",
   "metadata": {},
   "outputs": [
    {
     "name": "stdout",
     "output_type": "stream",
     "text": [
      "==========猜數字遊戲===========\n",
      "\n",
      "再大一點\n",
      "您已經猜1次\n",
      "再大一點\n",
      "您已經猜2次\n",
      "再大一點\n",
      "您已經猜3次\n",
      "賓果!猜對了,答案是:95\n",
      "您猜了4次\n",
      "遊戲重新開始\n",
      "再大一點\n",
      "您已經猜1次\n",
      "再大一點\n",
      "您已經猜2次\n",
      "再小一點!\n",
      "您已經猜3次\n",
      "再小一點!\n",
      "您已經猜4次\n",
      "再大一點\n",
      "您已經猜5次\n",
      "賓果!猜對了,答案是:84\n",
      "您猜了6次\n",
      "進行遊戲次數為2次\n",
      "遊戲結束\n"
     ]
    }
   ],
   "source": [
    "#猜數字遊戲提示版\n",
    "#詢問使用者還要繼續嗎?\n",
    "#如果使用者按y就重新遊戲\n",
    "#如果使用者按n就結束遊戲,並顯示共遊戲幾次\n",
    "#如果過程中使用者輸入的文字,無法轉換為整數,要提示使用者,並可繼續遊戲\n",
    "import random\n",
    "min = 1\n",
    "max = 100\n",
    "count = 0\n",
    "number = 1\n",
    "guess_value = random.randint(min,max)\n",
    "print(\"==========猜數字遊戲===========\\n\")\n",
    "while(True):\n",
    "    try:\n",
    "        keyin = int(input(f\"猜數字範圍{min}~{max}\"))\n",
    "        count += 1\n",
    "        if keyin >= min and keyin <= max:\n",
    "            if(keyin == guess_value):\n",
    "                print(f\"賓果!猜對了,答案是:{guess_value}\")\n",
    "                print(f\"您猜了{count}次\")\n",
    "                ask = str(input('是否繼續遊戲?(y/n)'))\n",
    "                if ask == 'y':\n",
    "                    print(\"遊戲重新開始\")\n",
    "                    count = 0\n",
    "                    number += 1\n",
    "                    min = 1\n",
    "                    max = 100\n",
    "                    guess_value = random.randint(min,max)\n",
    "                    continue\n",
    "                if ask == 'n':\n",
    "                    print(f'進行遊戲次數為{number}次')\n",
    "                    print('遊戲結束')\n",
    "                    break\n",
    "            elif keyin > guess_value:\n",
    "                print(\"再小一點!\")\n",
    "                max = keyin - 1\n",
    "            else:\n",
    "                print(\"再大一點\")\n",
    "                min = keyin + 1\n",
    "            print(f\"您已經猜{count}次\")      \n",
    "        else:\n",
    "            print(\"請輸入提示範圍內的數字\")\n",
    "    except:\n",
    "        print('請輸入整數')\n",
    "        continue"
   ]
  }
 ],
 "metadata": {
  "kernelspec": {
   "display_name": "base",
   "language": "python",
   "name": "python3"
  },
  "language_info": {
   "codemirror_mode": {
    "name": "ipython",
    "version": 3
   },
   "file_extension": ".py",
   "mimetype": "text/x-python",
   "name": "python",
   "nbconvert_exporter": "python",
   "pygments_lexer": "ipython3",
   "version": "3.13.2"
  }
 },
 "nbformat": 4,
 "nbformat_minor": 5
}
