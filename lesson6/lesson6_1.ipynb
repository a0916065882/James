{
 "cells": [
  {
   "cell_type": "code",
   "execution_count": 3,
   "id": "d215d950",
   "metadata": {},
   "outputs": [
    {
     "name": "stdout",
     "output_type": "stream",
     "text": [
      "你的BMI為: 24.7 \n",
      "BMI正常範圍為18.5~24\n",
      "應用程式結束\n"
     ]
    }
   ],
   "source": [
    "#BMI計算 height=身高 weight=體重\n",
    "#not的應用\n",
    "try:\n",
    "    height = float(input('請輸入身高120-250cm):'))\n",
    "    if not (120 <= height <= 250):\n",
    "        print('身高範圍輸入錯誤')\n",
    "    weight = float(input('請輸入體重30-200kg):'))\n",
    "    if not (30 <= weight <=200):\n",
    "         print('體重範圍輸入錯誤')\n",
    "    BMI = weight / ((height  / 100) **2)\n",
    "    if 120 <= height <= 250 :\n",
    "        if 30 <= weight <= 200:\n",
    "            print('你的BMI為:',round(BMI,1),'\\nBMI正常範圍為18.5~24')\n",
    "except:\n",
    "    print('輸入格式錯誤')\n",
    "finally:\n",
    "    print('應用程式結束')"
   ]
  }
 ],
 "metadata": {
  "kernelspec": {
   "display_name": "base",
   "language": "python",
   "name": "python3"
  },
  "language_info": {
   "codemirror_mode": {
    "name": "ipython",
    "version": 3
   },
   "file_extension": ".py",
   "mimetype": "text/x-python",
   "name": "python",
   "nbconvert_exporter": "python",
   "pygments_lexer": "ipython3",
   "version": "3.13.2"
  }
 },
 "nbformat": 4,
 "nbformat_minor": 5
}
