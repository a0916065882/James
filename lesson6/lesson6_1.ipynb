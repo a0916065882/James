{
 "cells": [
  {
   "cell_type": "code",
   "execution_count": 3,
   "id": "d215d950",
   "metadata": {},
   "outputs": [
    {
     "name": "stdout",
     "output_type": "stream",
     "text": [
      "你的BMI為: 24.7 \n",
      "BMI正常範圍為18.5~24\n",
      "應用程式結束\n"
     ]
    }
   ],
   "source": [
    "#BMI計算 height=身高 weight=體重\n",
    "#not的應用\n",
    "try:\n",
    "    height = float(input('請輸入身高120-250cm):'))\n",
    "    if not (120 <= height <= 250):\n",
    "        print('身高範圍輸入錯誤')\n",
    "    weight = float(input('請輸入體重30-200kg):'))\n",
    "    if not (30 <= weight <=200):\n",
    "         print('體重範圍輸入錯誤')\n",
    "    BMI = weight / ((height  / 100) **2)\n",
    "    if 120 <= height <= 250 :\n",
    "        if 30 <= weight <= 200:\n",
    "            print('你的BMI為:',round(BMI,1),'\\nBMI正常範圍為18.5~24')\n",
    "except:\n",
    "    print('輸入格式錯誤')\n",
    "finally:\n",
    "    print('應用程式結束')"
   ]
  },
  {
   "cell_type": "code",
   "execution_count": null,
   "id": "1eaa2606",
   "metadata": {},
   "outputs": [
    {
     "name": "stdout",
     "output_type": "stream",
     "text": [
      "你的BMI為: 23.9\n",
      "您的BMI為 正常範圍\n",
      "應用程式結束\n"
     ]
    }
   ],
   "source": [
    "#增加提示BMI標準範圍\n",
    "try:\n",
    "    height = float(input('請輸入身高120-250cm):'))\n",
    "    if not (120 <= height <= 250):\n",
    "        print('身高範圍輸入錯誤')\n",
    "    weight = float(input('請輸入體重30-200kg):'))\n",
    "    if not (30 <= weight <=200):\n",
    "         print('體重範圍輸入錯誤')\n",
    "    BMI = weight / ((height  / 100) **2)\n",
    "    if 120 <= height <= 250 :\n",
    "        if 30 <= weight <= 200:\n",
    "            print('你的BMI為:',round(BMI,1))\n",
    "        if BMI < 18.5:\n",
    "            x = '體重過輕'\n",
    "        elif 18.5 <= BMI < 24:\n",
    "            x = '正常範圍'\n",
    "        elif 24 <= BMI < 27:\n",
    "            x = '體重過重'\n",
    "        elif 27 <= BMI < 30:\n",
    "            x = '輕度肥胖'\n",
    "        elif 30 <= BMI < 35:\n",
    "            x = '中度肥胖'\n",
    "        elif BMI >= 35:\n",
    "            x = '重度肥胖'\n",
    "        print('您的BMI為',x)\n",
    "except:\n",
    "    print('輸入格式錯誤')\n",
    "finally:\n",
    "    print('應用程式結束')"
   ]
  },
  {
   "cell_type": "code",
   "execution_count": 97,
   "id": "7ef0a37d",
   "metadata": {},
   "outputs": [
    {
     "name": "stdout",
     "output_type": "stream",
     "text": [
      "10 的公因數為 1 2 5 10 \n",
      "程式結束\n"
     ]
    }
   ],
   "source": [
    "try:\n",
    "    a = int(input('請輸入一個整數:'))\n",
    "    print(a,'的公因數為',end=(' '))\n",
    "    for b in range(1,a + 1):\n",
    "        if a % b == 0:\n",
    "            print(f'{b}',end=(' '))\n",
    "except:\n",
    "    print('輸入錯誤')\n",
    "finally:\n",
    "    print('\\n程式結束')"
   ]
  },
  {
   "cell_type": "code",
   "execution_count": 127,
   "id": "a64d4be8",
   "metadata": {},
   "outputs": [
    {
     "name": "stdout",
     "output_type": "stream",
     "text": [
      "20 和 30 的公因數為: 1 2 5 10 \n",
      "程式結束\n"
     ]
    }
   ],
   "source": [
    "try:\n",
    "    a = int(input('請輸入第一個整數:'))\n",
    "    b = int(input('請輸入第二個整數:'))\n",
    "    print(a,'和',b,'的公因數為:',end=(' '))\n",
    "    if a > b:\n",
    "        n = a\n",
    "    else:\n",
    "        n = b\n",
    "    for c in range(1,n + 1):\n",
    "        if a % c == 0 and b % c ==0:\n",
    "            print(c,end=(' '))\n",
    "except:\n",
    "    print('輸入錯誤')\n",
    "finally:\n",
    "    print('\\n程式結束')"
   ]
  }
 ],
 "metadata": {
  "kernelspec": {
   "display_name": "base",
   "language": "python",
   "name": "python3"
  },
  "language_info": {
   "codemirror_mode": {
    "name": "ipython",
    "version": 3
   },
   "file_extension": ".py",
   "mimetype": "text/x-python",
   "name": "python",
   "nbconvert_exporter": "python",
   "pygments_lexer": "ipython3",
   "version": "3.13.2"
  }
 },
 "nbformat": 4,
 "nbformat_minor": 5
}
