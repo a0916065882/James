{
 "cells": [
  {
   "cell_type": "code",
   "execution_count": 1,
   "id": "ebde0c61",
   "metadata": {},
   "outputs": [
    {
     "data": {
      "text/plain": [
       "array([ 0, 10, 20, 30, 40, 50, 60, 70, 80, 90])"
      ]
     },
     "execution_count": 1,
     "metadata": {},
     "output_type": "execute_result"
    }
   ],
   "source": [
    "import numpy as np\n",
    "arr = np.arange(10) * 10\n",
    "arr"
   ]
  },
  {
   "cell_type": "code",
   "execution_count": 4,
   "id": "0cb9698c",
   "metadata": {},
   "outputs": [
    {
     "data": {
      "text/plain": [
       "array([50, 60, 70, 80, 90])"
      ]
     },
     "execution_count": 4,
     "metadata": {},
     "output_type": "execute_result"
    }
   ],
   "source": [
    "#索引\n",
    "arr[1]\n",
    "\n",
    "#slice切割\n",
    "arr[:5] #取前5個\n",
    "arr[-5:] #取後5個"
   ]
  },
  {
   "cell_type": "code",
   "execution_count": 6,
   "id": "571f3e83",
   "metadata": {},
   "outputs": [
    {
     "data": {
      "text/plain": [
       "array([[ 62,  54,  55,  78,  95],\n",
       "       [ 54,  71, 100,  96,  50],\n",
       "       [ 56,  97,  73,  85,  55],\n",
       "       [ 61,  95,  73,  90,  70],\n",
       "       [ 95,  94,  94,  73,  79],\n",
       "       [ 69,  58,  88,  80,  72],\n",
       "       [ 85, 100, 100,  65,  97],\n",
       "       [ 83,  85,  84,  70,  57],\n",
       "       [ 90,  71,  64,  92,  96],\n",
       "       [ 68,  73,  66,  61,  59],\n",
       "       [ 68,  84,  80,  61,  52],\n",
       "       [ 69,  65,  64,  63,  50],\n",
       "       [ 93,  88,  64,  67,  51],\n",
       "       [ 92,  89,  69,  72,  83],\n",
       "       [ 61,  80,  64,  98, 100],\n",
       "       [ 94,  88,  79,  79,  77],\n",
       "       [ 97,  66,  53,  96,  92],\n",
       "       [ 58,  87,  75,  77,  87],\n",
       "       [ 91,  61,  82,  77,  58],\n",
       "       [ 97,  55,  98,  85,  74],\n",
       "       [ 96,  78,  64,  93,  91],\n",
       "       [ 86,  82,  78,  65,  93],\n",
       "       [ 88,  80,  62,  92,  89],\n",
       "       [ 87,  75,  58,  97,  58],\n",
       "       [ 69,  93,  52,  97,  88],\n",
       "       [ 60,  90,  72,  97,  60],\n",
       "       [ 55,  60,  74,  57,  88],\n",
       "       [ 71,  77,  66,  63,  74],\n",
       "       [ 88,  96,  93,  75,  70],\n",
       "       [ 84,  97,  90,  79,  53],\n",
       "       [ 52,  91,  69,  57,  74],\n",
       "       [ 57,  84,  60,  83,  67],\n",
       "       [ 74,  72,  80,  91,  71],\n",
       "       [ 50,  85,  54,  50,  59],\n",
       "       [ 94,  77,  74,  66,  99],\n",
       "       [ 94,  68, 100,  98, 100],\n",
       "       [ 87,  80,  67,  52,  61],\n",
       "       [ 72,  67,  59,  74,  68],\n",
       "       [100,  68,  67,  86,  66],\n",
       "       [ 69,  62,  60,  52,  96],\n",
       "       [ 54, 100,  64,  51,  61],\n",
       "       [ 89,  78,  82,  96,  72],\n",
       "       [ 84,  54,  63,  74,  63],\n",
       "       [ 97,  87,  94,  57,  62],\n",
       "       [ 99,  84,  94,  63,  60],\n",
       "       [ 78,  84,  51,  76,  93],\n",
       "       [ 81,  80,  89,  67,  54],\n",
       "       [ 83,  56,  97,  56,  89],\n",
       "       [ 92,  64,  98,  92,  88],\n",
       "       [ 79,  62,  54,  87,  91]], dtype=int32)"
      ]
     },
     "execution_count": 6,
     "metadata": {},
     "output_type": "execute_result"
    }
   ],
   "source": [
    "scores = np.random.randint(50,101,size = (50,5))\n",
    "scores"
   ]
  },
  {
   "cell_type": "code",
   "execution_count": 7,
   "id": "6fa63f22",
   "metadata": {},
   "outputs": [
    {
     "data": {
      "text/plain": [
       "array([[62, 54, 55, 78, 95]], dtype=int32)"
      ]
     },
     "execution_count": 7,
     "metadata": {},
     "output_type": "execute_result"
    }
   ],
   "source": [
    "#第一位學生的分數\n",
    "scores[0] #(5,)\n",
    "scores[0,:] #(5,)\n",
    "scores[0:1,:] #(1, 5)"
   ]
  },
  {
   "cell_type": "code",
   "execution_count": 8,
   "id": "30256efb",
   "metadata": {},
   "outputs": [
    {
     "data": {
      "text/plain": [
       "array([[ 62,  54,  55],\n",
       "       [ 54,  71, 100],\n",
       "       [ 56,  97,  73],\n",
       "       [ 61,  95,  73],\n",
       "       [ 95,  94,  94]], dtype=int32)"
      ]
     },
     "execution_count": 8,
     "metadata": {},
     "output_type": "execute_result"
    }
   ],
   "source": [
    "#前5位學生\n",
    "scores[:5]\n",
    "#前5位學生,前3個分數\n",
    "scores[:5,:3]"
   ]
  },
  {
   "cell_type": "code",
   "execution_count": 14,
   "id": "1d709d92",
   "metadata": {},
   "outputs": [
    {
     "data": {
      "text/plain": [
       "array([ 55, 100,  73,  73,  94,  88, 100,  84,  64,  66,  80,  64,  64,\n",
       "        69,  64,  79,  53,  75,  82,  98,  64,  78,  62,  58,  52,  72,\n",
       "        74,  66,  93,  90,  69,  60,  80,  54,  74, 100,  67,  59,  67,\n",
       "        60,  64,  82,  63,  94,  94,  51,  89,  97,  98,  54], dtype=int32)"
      ]
     },
     "execution_count": 14,
     "metadata": {},
     "output_type": "execute_result"
    }
   ],
   "source": [
    "#第1科分數\n",
    "scores[:,0]\n",
    "scores[:,1]\n",
    "scores[:,2]"
   ]
  },
  {
   "cell_type": "code",
   "execution_count": 10,
   "id": "1a57068c",
   "metadata": {},
   "outputs": [
    {
     "data": {
      "text/plain": [
       "array([344, 371, 366, 389, 435, 367, 447, 379, 413, 327, 345, 311, 363,\n",
       "       405, 403, 417, 404, 384, 369, 409, 422, 404, 411, 375, 399, 379,\n",
       "       334, 351, 422, 403, 343, 351, 388, 298, 410, 460, 347, 340, 387,\n",
       "       339, 330, 417, 338, 397, 400, 382, 371, 381, 434, 373], dtype=int32)"
      ]
     },
     "execution_count": 10,
     "metadata": {},
     "output_type": "execute_result"
    }
   ],
   "source": [
    "#ndarray可以陣列運算\n",
    "total = scores[:,0] + scores[:,1] + scores[:,2] + scores[:,3] + scores[:,4]\n",
    "total"
   ]
  },
  {
   "cell_type": "code",
   "execution_count": 11,
   "id": "172430dc",
   "metadata": {},
   "outputs": [
    {
     "data": {
      "text/plain": [
       "array([68.8, 74.2, 73.2, 77.8, 87. , 73.4, 89.4, 75.8, 82.6, 65.4, 69. ,\n",
       "       62.2, 72.6, 81. , 80.6, 83.4, 80.8, 76.8, 73.8, 81.8, 84.4, 80.8,\n",
       "       82.2, 75. , 79.8, 75.8, 66.8, 70.2, 84.4, 80.6, 68.6, 70.2, 77.6,\n",
       "       59.6, 82. , 92. , 69.4, 68. , 77.4, 67.8, 66. , 83.4, 67.6, 79.4,\n",
       "       80. , 76.4, 74.2, 76.2, 86.8, 74.6])"
      ]
     },
     "execution_count": 11,
     "metadata": {},
     "output_type": "execute_result"
    }
   ],
   "source": [
    "total / 5"
   ]
  },
  {
   "cell_type": "code",
   "execution_count": 17,
   "id": "4fb414fe",
   "metadata": {},
   "outputs": [
    {
     "data": {
      "text/plain": [
       "array([68.8, 74.2, 73.2, 77.8, 87. , 73.4, 89.4, 75.8, 82.6, 65.4, 69. ,\n",
       "       62.2, 72.6, 81. , 80.6, 83.4, 80.8, 76.8, 73.8, 81.8, 84.4, 80.8,\n",
       "       82.2, 75. , 79.8, 75.8, 66.8, 70.2, 84.4, 80.6, 68.6, 70.2, 77.6,\n",
       "       59.6, 82. , 92. , 69.4, 68. , 77.4, 67.8, 66. , 83.4, 67.6, 79.4,\n",
       "       80. , 76.4, 74.2, 76.2, 86.8, 74.6])"
      ]
     },
     "execution_count": 17,
     "metadata": {},
     "output_type": "execute_result"
    }
   ],
   "source": [
    "#np內的function\n",
    "np.sum(scores,axis=1)\n",
    "np.mean(scores,axis=1)"
   ]
  },
  {
   "cell_type": "code",
   "execution_count": 19,
   "id": "91dd8c28",
   "metadata": {},
   "outputs": [
    {
     "data": {
      "text/plain": [
       "array([68.8, 74.2, 73.2, 77.8, 87. , 73.4, 89.4, 75.8, 82.6, 65.4, 69. ,\n",
       "       62.2, 72.6, 81. , 80.6, 83.4, 80.8, 76.8, 73.8, 81.8, 84.4, 80.8,\n",
       "       82.2, 75. , 79.8, 75.8, 66.8, 70.2, 84.4, 80.6, 68.6, 70.2, 77.6,\n",
       "       59.6, 82. , 92. , 69.4, 68. , 77.4, 67.8, 66. , 83.4, 67.6, 79.4,\n",
       "       80. , 76.4, 74.2, 76.2, 86.8, 74.6])"
      ]
     },
     "execution_count": 19,
     "metadata": {},
     "output_type": "execute_result"
    }
   ],
   "source": [
    "#實體方法\n",
    "scores.sum(axis=1)\n",
    "scores.mean(axis=1)"
   ]
  }
 ],
 "metadata": {
  "kernelspec": {
   "display_name": "James",
   "language": "python",
   "name": "python3"
  },
  "language_info": {
   "codemirror_mode": {
    "name": "ipython",
    "version": 3
   },
   "file_extension": ".py",
   "mimetype": "text/x-python",
   "name": "python",
   "nbconvert_exporter": "python",
   "pygments_lexer": "ipython3",
   "version": "3.12.11"
  }
 },
 "nbformat": 4,
 "nbformat_minor": 5
}
