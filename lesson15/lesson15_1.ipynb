{
 "cells": [
  {
   "cell_type": "code",
   "execution_count": 1,
   "id": "17d1154b",
   "metadata": {},
   "outputs": [
    {
     "data": {
      "text/plain": [
       "array([10, 30, 50, 70, 90])"
      ]
     },
     "execution_count": 1,
     "metadata": {},
     "output_type": "execute_result"
    }
   ],
   "source": [
    "import numpy as np\n",
    "#陣列運算\n",
    "a = np.array([1,3,5,7,9])\n",
    "a *= 10\n",
    "a"
   ]
  },
  {
   "cell_type": "code",
   "execution_count": 2,
   "id": "39f37052",
   "metadata": {},
   "outputs": [
    {
     "data": {
      "text/plain": [
       "array([ 3,  7, 11, 15, 19])"
      ]
     },
     "execution_count": 2,
     "metadata": {},
     "output_type": "execute_result"
    }
   ],
   "source": [
    "a = np.array([1,3,5,7,9])\n",
    "b = np.array([2,4,6,8,10])\n",
    "#陣列運算\n",
    "a + b"
   ]
  },
  {
   "cell_type": "code",
   "execution_count": null,
   "id": "520e8a36",
   "metadata": {},
   "outputs": [
    {
     "data": {
      "text/plain": [
       "dtype('int64')"
      ]
     },
     "execution_count": 7,
     "metadata": {},
     "output_type": "execute_result"
    }
   ],
   "source": [
    "#2維的ndarry\n",
    "arr = np.array([[1,3,5],[2,4,6]])\n",
    "arr.ndim #維度\n",
    "arr.shape #形狀\n",
    "arr.size #元素數量\n",
    "arr.dtype #型別"
   ]
  },
  {
   "cell_type": "code",
   "execution_count": 14,
   "id": "f1981ed4",
   "metadata": {},
   "outputs": [
    {
     "data": {
      "text/plain": [
       "array([[0.44410593, 0.06410805, 0.57110656, 0.95747051],\n",
       "       [0.85849891, 0.45426766, 0.49705669, 0.64684912],\n",
       "       [0.9038972 , 0.33760529, 0.22354018, 0.35007556],\n",
       "       [0.24793469, 0.87147932, 0.74803658, 0.75358665],\n",
       "       [0.56344144, 0.46554011, 0.75478774, 0.09128791],\n",
       "       [0.02883353, 0.96908599, 0.37515032, 0.86995035],\n",
       "       [0.89563401, 0.37726231, 0.80066548, 0.17436918],\n",
       "       [0.88884988, 0.02775521, 0.81723884, 0.83500485],\n",
       "       [0.49176041, 0.0090164 , 0.69997184, 0.59770291],\n",
       "       [0.26056635, 0.15740225, 0.78140347, 0.12933587]])"
      ]
     },
     "execution_count": 14,
     "metadata": {},
     "output_type": "execute_result"
    }
   ],
   "source": [
    "np.random.rand()\n",
    "np.random.rand(10,4)"
   ]
  },
  {
   "cell_type": "code",
   "execution_count": 13,
   "id": "3b9d6190",
   "metadata": {},
   "outputs": [
    {
     "data": {
      "text/plain": [
       "array([[ 53,  99,  59,  60,  97],\n",
       "       [ 56,  89,  63,  90,  74],\n",
       "       [ 69,  86,  51,  81,  50],\n",
       "       [ 70,  84,  62,  79,  77],\n",
       "       [ 99,  58,  74,  50,  81],\n",
       "       [ 73,  66,  62,  95,  60],\n",
       "       [ 96,  53,  90,  96,  92],\n",
       "       [ 89,  64,  51,  60,  52],\n",
       "       [ 59,  82,  95,  92,  96],\n",
       "       [ 85,  78,  53,  74,  75],\n",
       "       [ 54,  99,  76,  88, 100],\n",
       "       [ 81,  56,  56,  90,  84],\n",
       "       [ 94,  80,  70,  53,  97],\n",
       "       [ 72,  98,  80,  88,  77],\n",
       "       [ 73,  88,  50,  54,  90],\n",
       "       [ 73,  54,  76,  50,  61],\n",
       "       [ 58,  67,  51,  78,  59],\n",
       "       [ 80,  90,  88,  52,  88],\n",
       "       [ 80,  71,  84,  77,  82],\n",
       "       [ 63,  90,  66,  94,  98],\n",
       "       [ 75,  90,  85,  60,  61],\n",
       "       [ 62,  58,  56,  58,  60],\n",
       "       [ 69,  80,  75,  67,  66],\n",
       "       [ 97,  85, 100,  57,  56],\n",
       "       [ 75,  70,  89,  50,  62],\n",
       "       [ 81,  93,  66,  81,  51],\n",
       "       [ 67,  58,  65,  92,  79],\n",
       "       [100,  96,  89,  50,  51],\n",
       "       [ 82,  53,  82,  61,  68],\n",
       "       [ 70,  95,  56,  83,  71]], dtype=int32)"
      ]
     },
     "execution_count": 13,
     "metadata": {},
     "output_type": "execute_result"
    }
   ],
   "source": [
    "scores = np.random.randint(50, 101,size=(30,5))\n",
    "scores"
   ]
  }
 ],
 "metadata": {
  "kernelspec": {
   "display_name": "James",
   "language": "python",
   "name": "python3"
  },
  "language_info": {
   "codemirror_mode": {
    "name": "ipython",
    "version": 3
   },
   "file_extension": ".py",
   "mimetype": "text/x-python",
   "name": "python",
   "nbconvert_exporter": "python",
   "pygments_lexer": "ipython3",
   "version": "3.12.11"
  }
 },
 "nbformat": 4,
 "nbformat_minor": 5
}
