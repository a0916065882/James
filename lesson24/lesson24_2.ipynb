{
 "cells": [
  {
   "cell_type": "code",
   "execution_count": 1,
   "id": "867d9631",
   "metadata": {},
   "outputs": [
    {
     "name": "stdout",
     "output_type": "stream",
     "text": [
      "{1, 2, 3, 4, 5.5, 4.2, 'A', 'a'}\n",
      "{1, 2, 3, 4, 5.5, 4.2, 'A', 5.3, 'a'}\n",
      "{1, 2, 3, 4, 4.2, 'A', 5.3, 'a'}\n",
      "{1, 2, 3, 4, 4.2, 'A', 5.3, 'a'}\n"
     ]
    }
   ],
   "source": [
    "#集合set的特性\n",
    "set1={3,1,2,3,4,'a','A',5.5,4.2}\n",
    "print(set1) #不會出現重複值\n",
    "set1.add(5.3)#新增\n",
    "print(set1)#資料排列是依照於記憶體內的位置排列\n",
    "set1.remove(5.5)\n",
    "print(set1)#移除\n",
    "#set1[2]=6 不能修改\n",
    "print(set1)"
   ]
  },
  {
   "cell_type": "code",
   "execution_count": 2,
   "id": "ac4cce37",
   "metadata": {},
   "outputs": [
    {
     "name": "stdout",
     "output_type": "stream",
     "text": [
      "[3, 1, 2, 3, 4, 'a', 'A', 5.5, 4.2]\n",
      "list1欄位數量: 9\n",
      "[3, 1, 2, 3, 4, 'a', 'A', 5.5, 4.2, [199, 299, 399, 0.5, 0.2, '價格', '打折']]\n",
      "list2欄位數量: 10\n",
      "[3, 1, 2, 3, 4, 'a', 'A', 5.5, 4.2, 199, 299, 399, 0.5, 0.2, '價格', '打折']\n",
      "list3欄位數量: 16\n",
      "[3, 1, 2, [199, 299, 399, 0.5, 0.2, '價格', '打折'], 3, 4, 'a', 'A', 5.5, 4.2]\n",
      "list4欄位數量: 10\n"
     ]
    }
   ],
   "source": [
    "#串列list的特性\n",
    "list1=[3,1,2,3,4,'a','A',5.5,4.2]\n",
    "print(list1)\n",
    "print('list1欄位數量:',len(list1))\n",
    "list2=list1.copy() #複製產生list2\n",
    "add_list=[199,299,399,0.5,0.2,'價格','打折']\n",
    "list2.append(add_list) #將add_list當成一個欄位加入list2\n",
    "print(list2)\n",
    "print('list2欄位數量:',len(list2))\n",
    "list3=list1.copy() #複製產生list3\n",
    "add_list=[199,299,399,0.5,0.2,'價格','打折']\n",
    "list3.extend(add_list) #將add_list的每個欄位加入list3\n",
    "print(list3)\n",
    "print('list3欄位數量:',len(list3))\n",
    "list4=list1.copy() #複製產生list4\n",
    "list4.insert(3,add_list) #將add_list當成一個欄位插入list4的第3個位置\n",
    "print(list4)\n",
    "print('list4欄位數量:',len(list4))"
   ]
  }
 ],
 "metadata": {
  "kernelspec": {
   "display_name": "James",
   "language": "python",
   "name": "python3"
  },
  "language_info": {
   "codemirror_mode": {
    "name": "ipython",
    "version": 3
   },
   "file_extension": ".py",
   "mimetype": "text/x-python",
   "name": "python",
   "nbconvert_exporter": "python",
   "pygments_lexer": "ipython3",
   "version": "3.12.11"
  }
 },
 "nbformat": 4,
 "nbformat_minor": 5
}
