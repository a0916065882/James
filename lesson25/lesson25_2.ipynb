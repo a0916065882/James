{
 "cells": [
  {
   "cell_type": "code",
   "execution_count": 2,
   "id": "794a462d",
   "metadata": {},
   "outputs": [
    {
     "name": "stdout",
     "output_type": "stream",
     "text": [
      "標準化能做甚麼?\n",
      "假設兩個班級各20位同學，他們英文與數學成績\n",
      "    student_id  english_score  math_score\n",
      "0            1             85          90\n",
      "1            2             78          75\n",
      "2            3             92          92\n",
      "3            4             64          70\n",
      "4            5             88          88\n",
      "5            6             73          68\n",
      "6            7             95          90\n",
      "7            8             80          80\n",
      "8            9             69          74\n",
      "9           10             82          79\n",
      "10          11             90          85\n",
      "11          12             77          77\n",
      "12          13             84          89\n",
      "13          14             91          91\n",
      "14          15             66          70\n",
      "15          16             88          85\n",
      "16          17             79          83\n",
      "17          18             72          68\n",
      "18          19             87          87\n",
      "19          20             93          96\n"
     ]
    }
   ],
   "source": [
    "print('標準化能做甚麼?')\n",
    "print('假設兩個班級各20位同學，他們英文與數學成績')\n",
    "import pandas as pd\n",
    "data = {\n",
    "    'student_id': range(1, 21),\n",
    "    'english_score': [85, 78, 92, 64, 88, 73, 95, 80, 69, 82,\n",
    "              90, 77, 84, 91, 66, 88, 79, 72, 87, 93],\n",
    "    'math_score': [90, 75, 92, 70, 88, 68, 90, 80, 74, 79,\n",
    "            85, 77, 89, 91, 70, 85, 83, 68, 87, 96]\n",
    "}\n",
    "df=pd.DataFrame(data)\n",
    "print(df)"
   ]
  },
  {
   "cell_type": "code",
   "execution_count": 3,
   "id": "88aded30",
   "metadata": {},
   "outputs": [
    {
     "name": "stdout",
     "output_type": "stream",
     "text": [
      "成績比較只是舉例，仍請尊重學校與老師的安排\n",
      "英文平均: 81.65\n",
      "數學平均: 81.85\n",
      "英文標準差: 9.018176090540704\n",
      "數學標準差: 8.557306819321134\n",
      "一號同學的英文成績與15號同學的數學成績是否一樣好?\n"
     ]
    }
   ],
   "source": [
    "print('成績比較只是舉例，仍請尊重學校與老師的安排')\n",
    "import numpy as np \n",
    "english_mean=np.mean(df['english_score'])\n",
    "math_mean=np.mean(df['math_score'])\n",
    "print('英文平均:',english_mean)\n",
    "print('數學平均:',math_mean)\n",
    "english_std=np.std(df['english_score'])\n",
    "math_std=np.std(df['math_score'])\n",
    "print('英文標準差:',english_std)\n",
    "print('數學標準差:',math_std)\n",
    "print('一號同學的英文成績與15號同學的數學成績是否一樣好?')"
   ]
  },
  {
   "cell_type": "code",
   "execution_count": 4,
   "id": "f57f31f4",
   "metadata": {},
   "outputs": [
    {
     "data": {
      "image/png": "[encoded data removed]",
      "text/plain": [
       "<Figure size 640x480 with 1 Axes>"
      ]
     },
     "metadata": {},
     "output_type": "display_data"
    },
    {
     "name": "stdout",
     "output_type": "stream",
     "text": [
      "分布不一致，所以進行標準化\n",
      "[[ 0.37147201  0.95240245]\n",
      " [-0.40473816 -0.8004855 ]\n",
      " [ 1.14768218  1.18612085]\n",
      " [-1.9571585  -1.38478148]\n",
      " [ 0.70413351  0.71868406]\n",
      " [-0.959174   -1.61849987]\n",
      " [ 1.48034368  0.95240245]\n",
      " [-0.18296383 -0.21618951]\n",
      " [-1.40272267 -0.91734469]\n",
      " [ 0.03881051 -0.33304871]\n",
      " [ 0.92590785  0.36810647]\n",
      " [-0.51562533 -0.5667671 ]\n",
      " [ 0.26058484  0.83554326]\n",
      " [ 1.03679501  1.06926165]\n",
      " [-1.73538417 -1.38478148]\n",
      " [ 0.70413351  0.36810647]\n",
      " [-0.29385099  0.13438808]\n",
      " [-1.07006116 -1.61849987]\n",
      " [ 0.59324634  0.60182486]\n",
      " [ 1.25856935  1.65355763]]\n",
      "    student_id  english_score  math_score  english_z    math_z\n",
      "0            1             85          90   0.371472  0.952402\n",
      "1            2             78          75  -0.404738 -0.800485\n",
      "2            3             92          92   1.147682  1.186121\n",
      "3            4             64          70  -1.957159 -1.384781\n",
      "4            5             88          88   0.704134  0.718684\n",
      "5            6             73          68  -0.959174 -1.618500\n",
      "6            7             95          90   1.480344  0.952402\n",
      "7            8             80          80  -0.182964 -0.216190\n",
      "8            9             69          74  -1.402723 -0.917345\n",
      "9           10             82          79   0.038811 -0.333049\n",
      "10          11             90          85   0.925908  0.368106\n",
      "11          12             77          77  -0.515625 -0.566767\n",
      "12          13             84          89   0.260585  0.835543\n",
      "13          14             91          91   1.036795  1.069262\n",
      "14          15             66          70  -1.735384 -1.384781\n",
      "15          16             88          85   0.704134  0.368106\n",
      "16          17             79          83  -0.293851  0.134388\n",
      "17          18             72          68  -1.070061 -1.618500\n",
      "18          19             87          87   0.593246  0.601825\n",
      "19          20             93          96   1.258569  1.653558\n"
     ]
    }
   ],
   "source": [
    "import matplotlib.pyplot as plt\n",
    "plt.boxplot([df['english_score'],df['math_score']],label=['English','Math'])\n",
    "plt.legend()\n",
    "plt.show()\n",
    "print('分布不一致，所以進行標準化')\n",
    "from sklearn.preprocessing import StandardScaler\n",
    "scaler1=StandardScaler()\n",
    "scaler1.fit(df[['english_score','math_score']])\n",
    "df_std=scaler1.transform(df[['english_score','math_score']])\n",
    "print(df_std)\n",
    "df[['english_z','math_z']]=scaler1.transform(df[['english_score','math_score']])\n",
    "print(df)"
   ]
  }
 ],
 "metadata": {
  "kernelspec": {
   "display_name": "James",
   "language": "python",
   "name": "python3"
  },
  "language_info": {
   "codemirror_mode": {
    "name": "ipython",
    "version": 3
   },
   "file_extension": ".py",
   "mimetype": "text/x-python",
   "name": "python",
   "nbconvert_exporter": "python",
   "pygments_lexer": "ipython3",
   "version": "3.12.11"
  }
 },
 "nbformat": 4,
 "nbformat_minor": 5
}
