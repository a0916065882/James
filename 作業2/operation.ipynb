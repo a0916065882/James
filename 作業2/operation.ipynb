{
 "cells": [
  {
   "cell_type": "code",
   "execution_count": null,
   "id": "2dfe25ed",
   "metadata": {},
   "outputs": [
    {
     "name": "stdout",
     "output_type": "stream",
     "text": [
      "[['陳姵彬', 92, 83, 53], ['盧必妍', 74, 75, 51], ['程玫靖', 56, 98, 95]]\n"
     ]
    }
   ],
   "source": [
    "#有一個name.txt的檔案,裏面有299個名字,每行一個名字\n",
    "#請寫一個程式,讀取這個檔案,並且讀出每一個名字\n",
    "#並且將讀出的名字存入一個list中,然後印出這個list\n",
    "#如果檔案不存在,請印出\"檔案不存在\"\n",
    "#請隨機取出3個名字\n",
    "#建立2維的list,結構如下\n",
    "#每個姓名有3個分數,分數是(50~100)的隨機數\n",
    "\n",
    "import random\n",
    "\n",
    "try:\n",
    "    with open ('names.txt') as file:\n",
    "        names = [line.strip() for line in file]\n",
    "        slected_names = random.sample(names, 3)\n",
    "        scores_list = [[name] + [random.randint(50, 100) for _ in range(3)] for name in slected_names]\n",
    "        print(scores_list)\n",
    "except FileNotFoundError:\n",
    "    print('檔案不存在')\n",
    "except ValueError:\n",
    "    print('名單不足三人')"
   ]
  }
 ],
 "metadata": {
  "kernelspec": {
   "display_name": "base",
   "language": "python",
   "name": "python3"
  },
  "language_info": {
   "codemirror_mode": {
    "name": "ipython",
    "version": 3
   },
   "file_extension": ".py",
   "mimetype": "text/x-python",
   "name": "python",
   "nbconvert_exporter": "python",
   "pygments_lexer": "ipython3",
   "version": "3.13.2"
  }
 },
 "nbformat": 4,
 "nbformat_minor": 5
}
