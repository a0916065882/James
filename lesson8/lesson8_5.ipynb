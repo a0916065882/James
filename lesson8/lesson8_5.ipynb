{
 "cells": [
  {
   "cell_type": "code",
   "execution_count": 4,
   "id": "8c25c5cb",
   "metadata": {},
   "outputs": [
    {
     "name": "stdout",
     "output_type": "stream",
     "text": [
      "Hello! 您好!\n"
     ]
    }
   ],
   "source": [
    "def say_hello():\n",
    "    print('Hello! 您好!')\n",
    "\n",
    "say_hello()"
   ]
  },
  {
   "cell_type": "code",
   "execution_count": 8,
   "id": "6da3eb3c",
   "metadata": {},
   "outputs": [
    {
     "name": "stdout",
     "output_type": "stream",
     "text": [
      "James! 您好!\n"
     ]
    }
   ],
   "source": [
    "def say_hello(name):\n",
    "    print(f'{name}! 您好!')\n",
    "\n",
    "say_hello('James')"
   ]
  },
  {
   "cell_type": "code",
   "execution_count": 10,
   "id": "026a9d28",
   "metadata": {},
   "outputs": [
    {
     "name": "stdout",
     "output_type": "stream",
     "text": [
      "James! 您好\n"
     ]
    }
   ],
   "source": [
    "#型別提示(type hint)\n",
    "def say_hello(name:str):\n",
    "    print(f\"{name}! 您好\")\n",
    "\n",
    "say_hello(\"James\")"
   ]
  },
  {
   "cell_type": "code",
   "execution_count": 16,
   "id": "9f86651d",
   "metadata": {},
   "outputs": [
    {
     "name": "stdout",
     "output_type": "stream",
     "text": [
      "James! 您好\n"
     ]
    }
   ],
   "source": [
    "def say_hello(name:str)->str:\n",
    "    return f\"{name}! 您好\" #return 傳出值\n",
    "\n",
    "print(say_hello(\"James\"))"
   ]
  },
  {
   "cell_type": "code",
   "execution_count": 12,
   "id": "dfab297c",
   "metadata": {},
   "outputs": [],
   "source": [
    "name:str = \"James\"\n",
    "age:int = 45"
   ]
  }
 ],
 "metadata": {
  "kernelspec": {
   "display_name": "base",
   "language": "python",
   "name": "python3"
  },
  "language_info": {
   "codemirror_mode": {
    "name": "ipython",
    "version": 3
   },
   "file_extension": ".py",
   "mimetype": "text/x-python",
   "name": "python",
   "nbconvert_exporter": "python",
   "pygments_lexer": "ipython3",
   "version": "3.13.2"
  }
 },
 "nbformat": 4,
 "nbformat_minor": 5
}
