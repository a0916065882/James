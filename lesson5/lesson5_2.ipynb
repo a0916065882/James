{
 "cells": [
  {
   "cell_type": "code",
   "execution_count": null,
   "id": "e60ac5d7",
   "metadata": {},
   "outputs": [],
   "source": [
    "#學生總分為300\n",
    "#有些學生可以加分5%\n",
    "#總分不得超過300分\n",
    "#不得輸入超過300分\n",
    "#\n",
    "scores = int(input(\"請輸入學生分數(最高300):\")) #根程式一定執行\n",
    "if scores <= 300:\n",
    "    is_add = input(\"學生是否符合加分條件?(y,n)\")\n",
    "\n",
    "    if is_add == \"y\": #單項選擇\n",
    "        scores *= 1.05 #敘述式(因為沒有傳出值)\n",
    "        if scores > 300:\n",
    "            scores = 300 #符合兩個條件(巢狀判斷)\n",
    "\n",
    "    print(\"學生總分是:\", round(scores))\n",
    "else:\n",
    "    print('總分不得超過300分')\n",
    "print('應用程式結束')        "
   ]
  }
 ],
 "metadata": {
  "language_info": {
   "name": "python"
  }
 },
 "nbformat": 4,
 "nbformat_minor": 5
}
