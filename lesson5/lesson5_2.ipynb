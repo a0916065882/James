{
 "cells": [
  {
   "cell_type": "code",
   "execution_count": 5,
   "id": "e60ac5d7",
   "metadata": {},
   "outputs": [
    {
     "name": "stdout",
     "output_type": "stream",
     "text": [
      "學生總分是: -12\n",
      "應用程式結束\n"
     ]
    }
   ],
   "source": [
    "#學生總分為300\n",
    "#有些學生可以加分5%\n",
    "#總分不得超過300分\n",
    "#不得輸入超過300分\n",
    "#檢查錯誤\n",
    "try:\n",
    "    scores = int(input(\"請輸入學生分數(最高300):\")) #根程式一定執行\n",
    "    if scores <= 300:\n",
    "        is_add = input(\"學生是否符合加分條件?(y,n)\")\n",
    "\n",
    "        if is_add == \"y\": #單項選擇\n",
    "            scores *= 1.05 #敘述式(因為沒有傳出值)\n",
    "            if scores > 300:\n",
    "                scores = 300 #符合兩個條件(巢狀判斷)\n",
    "\n",
    "        print(\"學生總分是:\", round(scores))\n",
    "    else:\n",
    "        print('總分不得超過300分')\n",
    "except ValueError as e:\n",
    "    print('格式錯誤',e)\n",
    "except:\n",
    "    print('不知名錯誤')\n",
    "print('應用程式結束')        "
   ]
  },
  {
   "cell_type": "code",
   "execution_count": 14,
   "id": "d176c569",
   "metadata": {},
   "outputs": [
    {
     "name": "stdout",
     "output_type": "stream",
     "text": [
      "學生總分是: 0\n",
      "應用程式結束\n"
     ]
    }
   ],
   "source": [
    "#自己raise exception()\n",
    "#學生總分為300\n",
    "#有些學生可以加分5%\n",
    "#總分不得超過300分\n",
    "#不得輸入超過300分\n",
    "#分數不得低於0\n",
    "#檢查錯誤\n",
    "try:\n",
    "    scores = int(input(\"請輸入學生分數(最高300):\")) #根程式一定執行\n",
    "    if scores <= 300 and scores >= 0:\n",
    "        is_add = input(\"學生是否符合加分條件?(y,n)\")\n",
    "\n",
    "        if is_add == \"y\": #單項選擇\n",
    "            scores *= 1.05 #敘述式(因為沒有傳出值)\n",
    "            if scores > 300:\n",
    "                scores = 300 #符合兩個條件(巢狀判斷)\n",
    "\n",
    "        print(\"學生總分是:\", round(scores))\n",
    "    else:\n",
    "        raise Exception ('學生分數不得超過300分或負數')\n",
    "except ValueError as e:\n",
    "    print('格式錯誤',e)\n",
    "except Exception as e:\n",
    "    print(e)\n",
    "print('應用程式結束')        "
   ]
  }
 ],
 "metadata": {
  "kernelspec": {
   "display_name": "base",
   "language": "python",
   "name": "python3"
  },
  "language_info": {
   "codemirror_mode": {
    "name": "ipython",
    "version": 3
   },
   "file_extension": ".py",
   "mimetype": "text/x-python",
   "name": "python",
   "nbconvert_exporter": "python",
   "pygments_lexer": "ipython3",
   "version": "3.13.2"
  }
 },
 "nbformat": 4,
 "nbformat_minor": 5
}
