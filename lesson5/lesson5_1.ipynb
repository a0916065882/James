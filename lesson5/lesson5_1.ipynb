{
 "cells": [
  {
   "cell_type": "code",
   "execution_count": null,
   "id": "3338ba43",
   "metadata": {},
   "outputs": [
    {
     "name": "stdout",
     "output_type": "stream",
     "text": [
      "學生總分是: 300\n"
     ]
    }
   ],
   "source": [
    "#學生總分為300\n",
    "#有些學生可以加分5%\n",
    "#總分不得超過300分\n",
    "\n",
    "scores = int(input(\"請輸入學生分數(最高300):\")) #根程式一定執行\n",
    "is_add = input(\"學生是否符合加分條件?(y,n)\")\n",
    "\n",
    "if is_add == \"y\": #單項選擇\n",
    "    scores *= 1.05 #敘述式(因為沒有傳出值)\n",
    "    if scores > 300:\n",
    "        scores = 300 #符合兩個條件(巢狀判斷)\n",
    "\n",
    "print(\"學生總分是:\", round(scores))"
   ]
  },
  {
   "cell_type": "code",
   "execution_count": 20,
   "id": "ab21e11c",
   "metadata": {},
   "outputs": [
    {
     "name": "stdout",
     "output_type": "stream",
     "text": [
      "學生總分是: -105\n",
      "應用程式結束\n"
     ]
    }
   ],
   "source": [
    "#學生總分為300\n",
    "#有些學生可以加分5%\n",
    "#總分不得超過300分\n",
    "#不得輸入超過300分\n",
    "scores = int(input(\"請輸入學生分數(最高300):\")) #根程式一定執行\n",
    "if scores <= 300:\n",
    "    is_add = input(\"學生是否符合加分條件?(y,n)\")\n",
    "\n",
    "    if is_add == \"y\": #單項選擇\n",
    "        scores *= 1.05 #敘述式(因為沒有傳出值)\n",
    "        if scores > 300:\n",
    "            scores = 300 #符合兩個條件(巢狀判斷)\n",
    "\n",
    "    print(\"學生總分是:\", round(scores))\n",
    "else:\n",
    "    print('總分不得超過300分')\n",
    "print('應用程式結束')        "
   ]
  },
  {
   "cell_type": "code",
   "execution_count": null,
   "id": "b6d0344e",
   "metadata": {},
   "outputs": [
    {
     "name": "stdout",
     "output_type": "stream",
     "text": [
      "格式錯誤\n",
      "應用程式結束\n"
     ]
    }
   ],
   "source": [
    "try: #檢查是否有錯誤\n",
    "    money = int(input('請輸入金額:'))\n",
    "except: #發現錯誤時執行以下程式\n",
    "    print('格式錯誤')\n",
    "print('應用程式結束')    "
   ]
  },
  {
   "cell_type": "code",
   "execution_count": 19,
   "id": "64b8811e",
   "metadata": {},
   "outputs": [
    {
     "name": "stdout",
     "output_type": "stream",
     "text": [
      "金額是: 53\n",
      "應用程式結束\n"
     ]
    }
   ],
   "source": [
    "try:\n",
    "    money = int(input('請輸入金額:'))\n",
    "    print('金額是:',money)\n",
    "except: \n",
    "    print('格式錯誤')\n",
    "print('應用程式結束')    "
   ]
  },
  {
   "cell_type": "code",
   "execution_count": null,
   "id": "fa6d2bac",
   "metadata": {},
   "outputs": [
    {
     "name": "stdout",
     "output_type": "stream",
     "text": [
      "格式錯誤\n",
      "應用程式結束\n"
     ]
    }
   ],
   "source": [
    "try:\n",
    "    money = int(input(\"請輸入金額:\"))\n",
    "except IndexError: #出現IndexError錯誤時,執行以下程式\n",
    "    print(\"索引錯誤\")\n",
    "except ValueError: #出現ValueError錯誤時,執行以下程式\n",
    "    print(\"格式錯誤\")\n",
    "except: #出現其他所有錯誤時,執行以下程式\n",
    "    print(\"不知名的錯誤\")\n",
    "\n",
    "print(\"應用程式結束\")"
   ]
  },
  {
   "cell_type": "code",
   "execution_count": null,
   "id": "73c6e5b8",
   "metadata": {},
   "outputs": [
    {
     "name": "stdout",
     "output_type": "stream",
     "text": [
      "格式錯誤 invalid literal for int() with base 10: '10a'\n",
      "應用程式結束\n"
     ]
    }
   ],
   "source": [
    "try:\n",
    "    money = int(input(\"請輸入金額:\"))\n",
    "except IndexError as e: #賦予錯誤一個變數e\n",
    "    print(\"索引錯誤\",e)\n",
    "except ValueError as e:\n",
    "    print(\"格式錯誤\", e)\n",
    "except:\n",
    "    print(\"不知名的錯誤\")\n",
    "\n",
    "print(\"應用程式結束\")"
   ]
  },
  {
   "cell_type": "code",
   "execution_count": null,
   "id": "4c40317e",
   "metadata": {},
   "outputs": [
    {
     "name": "stdout",
     "output_type": "stream",
     "text": [
      "格式錯誤 invalid literal for int() with base 10: '55\\\\\\\\'\n",
      "結束連線\n",
      "應用程式結束\n"
     ]
    }
   ],
   "source": [
    "try:\n",
    "    money = int(input(\"請輸入金額:\"))\n",
    "except IndexError as e:\n",
    "    print(\"索引錯誤\",e)\n",
    "except ValueError as e:\n",
    "    print(\"格式錯誤\", e)\n",
    "except:\n",
    "    print(\"不知名的錯誤\")\n",
    "else:                     #沒有出現錯誤執行此程式\n",
    "    print('沒有出現錯誤')\n",
    "finally:                  #無論有無錯誤皆執行此程式\n",
    "    print('結束連線')\n",
    "\n",
    "print(\"應用程式結束\")"
   ]
  }
 ],
 "metadata": {
  "kernelspec": {
   "display_name": "base",
   "language": "python",
   "name": "python3"
  },
  "language_info": {
   "codemirror_mode": {
    "name": "ipython",
    "version": 3
   },
   "file_extension": ".py",
   "mimetype": "text/x-python",
   "name": "python",
   "nbconvert_exporter": "python",
   "pygments_lexer": "ipython3",
   "version": "3.13.2"
  }
 },
 "nbformat": 4,
 "nbformat_minor": 5
}
