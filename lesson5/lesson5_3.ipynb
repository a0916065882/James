{
 "cells": [
  {
   "cell_type": "code",
   "execution_count": null,
   "id": "9bbd1b1b",
   "metadata": {},
   "outputs": [
    {
     "name": "stdout",
     "output_type": "stream",
     "text": [
      "scores小於60\n"
     ]
    }
   ],
   "source": [
    "#取大於等60區塊\n",
    "scores = 55\n",
    "if scores >= 60:\n",
    "    print('scores大於等於60')\n",
    "else:\n",
    "    print('scores小於60')"
   ]
  },
  {
   "cell_type": "code",
   "execution_count": null,
   "id": "72ab5107",
   "metadata": {},
   "outputs": [
    {
     "name": "stdout",
     "output_type": "stream",
     "text": [
      "scores>80\n"
     ]
    }
   ],
   "source": [
    "#取60至80區塊\n",
    "#兩個條件，巢狀判斷\n",
    "scores = 90\n",
    "if scores >= 60:\n",
    "    if scores <=80:\n",
    "        print('60<=scores<=80')\n",
    "    else:\n",
    "        print('scores>80')\n",
    "else:\n",
    "    print('scores<60')"
   ]
  },
  {
   "cell_type": "code",
   "execution_count": null,
   "id": "ea34ce1a",
   "metadata": {},
   "outputs": [
    {
     "name": "stdout",
     "output_type": "stream",
     "text": [
      "scores可能大於80或小於60\n"
     ]
    }
   ],
   "source": [
    "#取60至80區塊\n",
    "# 2個條件,邏輯運算子(and)\n",
    "scores = 90\n",
    "if scores >= 60 and scores <= 80:\n",
    "    print('60<=scores<=80')\n",
    "else:\n",
    "    print(\"scores可能大於80或小於60\")"
   ]
  },
  {
   "cell_type": "code",
   "execution_count": null,
   "id": "50055063",
   "metadata": {},
   "outputs": [
    {
     "name": "stdout",
     "output_type": "stream",
     "text": [
      "60<=scores<=80\n"
     ]
    }
   ],
   "source": [
    "# 60 <= scores <= 80\n",
    "# 2個條件,邏輯運算子(or)\n",
    "scores = 65\n",
    "if scores <= 60 or scores >= 80:\n",
    "    print('scores可能大於80或小於60')\n",
    "else:\n",
    "    print('60<=scores<=80')"
   ]
  }
 ],
 "metadata": {
  "kernelspec": {
   "display_name": "base",
   "language": "python",
   "name": "python3"
  },
  "language_info": {
   "codemirror_mode": {
    "name": "ipython",
    "version": 3
   },
   "file_extension": ".py",
   "mimetype": "text/x-python",
   "name": "python",
   "nbconvert_exporter": "python",
   "pygments_lexer": "ipython3",
   "version": "3.13.2"
  }
 },
 "nbformat": 4,
 "nbformat_minor": 5
}
