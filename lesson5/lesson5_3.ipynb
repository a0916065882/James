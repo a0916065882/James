{
 "cells": [
  {
   "cell_type": "code",
   "execution_count": null,
   "id": "9bbd1b1b",
   "metadata": {},
   "outputs": [
    {
     "name": "stdout",
     "output_type": "stream",
     "text": [
      "scores小於60\n"
     ]
    }
   ],
   "source": [
    "#取大於等60區塊\n",
    "scores = 55\n",
    "if scores >= 60:\n",
    "    print('scores大於等於60')\n",
    "else:\n",
    "    print('scores小於60')"
   ]
  },
  {
   "cell_type": "code",
   "execution_count": null,
   "id": "72ab5107",
   "metadata": {},
   "outputs": [
    {
     "name": "stdout",
     "output_type": "stream",
     "text": [
      "scores>80\n"
     ]
    }
   ],
   "source": [
    "#取60至80區塊\n",
    "#兩個條件，巢狀判斷\n",
    "scores = 90\n",
    "if scores >= 60:\n",
    "    if scores <=80:\n",
    "        print('60<=scores<=80')\n",
    "    else:\n",
    "        print('scores>80')\n",
    "else:\n",
    "    print('scores<60')"
   ]
  },
  {
   "cell_type": "code",
   "execution_count": null,
   "id": "ea34ce1a",
   "metadata": {},
   "outputs": [
    {
     "name": "stdout",
     "output_type": "stream",
     "text": [
      "scores可能大於80或小於60\n"
     ]
    }
   ],
   "source": [
    "#取60至80區塊\n",
    "# 2個條件,邏輯運算子(and)\n",
    "scores = 90\n",
    "if scores >= 60 and scores <= 80:\n",
    "    print('60<=scores<=80')\n",
    "else:\n",
    "    print(\"scores可能大於80或小於60\")"
   ]
  },
  {
   "cell_type": "code",
   "execution_count": null,
   "id": "50055063",
   "metadata": {},
   "outputs": [
    {
     "name": "stdout",
     "output_type": "stream",
     "text": [
      "60<=scores<=80\n"
     ]
    }
   ],
   "source": [
    "# 60 <= scores <= 80\n",
    "# 2個條件,邏輯運算子(or)\n",
    "scores = 65\n",
    "if scores <= 60 or scores >= 80:\n",
    "    print('scores可能大於80或小於60')\n",
    "else:\n",
    "    print('60<=scores<=80')"
   ]
  },
  {
   "cell_type": "code",
   "execution_count": null,
   "id": "45ccc312",
   "metadata": {},
   "outputs": [
    {
     "name": "stdout",
     "output_type": "stream",
     "text": [
      "輸入格式錯誤\n"
     ]
    }
   ],
   "source": [
    "#BMI計算 H=身高 W=體重\n",
    "try:\n",
    "    H = float(input('請輸入身高120-250cm):'))\n",
    "    if H <= 120 or H >= 250:\n",
    "        print('身高範圍輸入錯誤')\n",
    "    W = float(input('請輸入體重30-200kg):'))\n",
    "    if W <= 30 or W >= 200:\n",
    "         print('體重範圍輸入錯誤')\n",
    "    BMI = W / ((H  / 100) **2)\n",
    "    if H >= 120 and H <= 250:\n",
    "        if W >= 30 and W <= 200:\n",
    "            print('你的BMI為:',round(BMI,1),'\\nBMI正常範圍為18.5~24')\n",
    "except:\n",
    "    print('輸入格式錯誤')"
   ]
  }
 ],
 "metadata": {
  "kernelspec": {
   "display_name": "base",
   "language": "python",
   "name": "python3"
  },
  "language_info": {
   "codemirror_mode": {
    "name": "ipython",
    "version": 3
   },
   "file_extension": ".py",
   "mimetype": "text/x-python",
   "name": "python",
   "nbconvert_exporter": "python",
   "pygments_lexer": "ipython3",
   "version": "3.13.2"
  }
 },
 "nbformat": 4,
 "nbformat_minor": 5
}
